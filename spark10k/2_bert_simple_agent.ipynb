{
    "cells": [
     {
      "cell_type": "markdown",
      "metadata": {},
      "source": [
       "# Simple Electronics Q&A System\n",
       "\n",
       "This notebook demonstrates a basic implementation of a question-answering system specifically focused on electronics concepts. It combines a pre-trained NLP model for general question answering with a custom calculator for Ohm's Law."
      ]
     },
     {
      "cell_type": "markdown",
      "metadata": {},
      "source": [
       "## Environment Setup\n",
       "\n",
       "First, we check our Python version to ensure compatibility with the libraries we'll be using."
      ]
     },
     {
      "cell_type": "code",
      "execution_count": null,
      "metadata": {},
      "outputs": [],
      "source": [
       "!python --version"
      ]
     },
     {
      "cell_type": "markdown",
      "metadata": {},
      "source": [
       "## Installing Dependencies\n",
       "\n",
       "Next, we install PyTorch and its related libraries. PyTorch is a deep learning framework that serves as the foundation for many NLP models, including the transformers we'll be using.\n",
       "\n",
       "- `torch`: The core PyTorch library for tensor computations and neural networks\n",
       "- `torchvision`: PyTorch's computer vision library (not directly used in this notebook but often installed with PyTorch)\n",
       "- `torchaudio`: PyTorch's audio processing library (not directly used but part of the standard installation)"
      ]
     },
     {
      "cell_type": "code",
      "execution_count": null,
      "metadata": {},
      "outputs": [],
      "source": [
       "!pip install torch torchvision torchaudio"
      ]
     },
     {
      "cell_type": "markdown",
      "metadata": {},
      "source": [
       "## Importing the Transformers Library\n",
       "\n",
       "We import the `pipeline` function from the Hugging Face Transformers library. This function provides a simple interface to use pre-trained models for various NLP tasks."
      ]
     },
     {
      "cell_type": "code",
      "execution_count": null,
      "metadata": {},
      "outputs": [],
      "source": [
       "from transformers import pipeline"
      ]
     },
     {
      "cell_type": "markdown",
      "metadata": {},
      "source": [
       "## Loading the Question-Answering Model\n",
       "\n",
       "Here we initialize a question-answering pipeline using a pre-trained model. The model we're using is `distilbert-base-cased-distilled-squad`, which is:\n",
       "\n",
       "- A smaller, faster version of BERT (DistilBERT)\n",
       "- Case-sensitive (\"cased\")\n",
       "- Fine-tuned on the SQuAD dataset (Stanford Question Answering Dataset)\n",
       "\n",
       "This model is designed to extract answers from a given context. It works by finding the span of text in the context that best answers the question."
      ]
     },
     {
      "cell_type": "code",
      "execution_count": null,
      "metadata": {},
      "outputs": [],
      "source": [
       "# Load a simple QA model\n",
       "qa_pipeline = pipeline(\"question-answering\", model=\"distilbert-base-cased-distilled-squad\")\n"
      ]
     },
     {
      "cell_type": "markdown",
      "metadata": {},
      "source": [
       "## Creating a Custom Ohm's Law Calculator\n",
       "\n",
       "We define a function to calculate various electrical properties using Ohm's Law (V = I × R). This function demonstrates how domain-specific tools can extend the capabilities of our Q&A system.\n",
       "\n",
       "The function takes three parameters (voltage, current, and resistance) and calculates the missing value:\n",
       "- If voltage is missing, it calculates voltage = current × resistance\n",
       "- If current is missing, it calculates current = voltage ÷ resistance\n",
       "- If resistance is missing, it calculates resistance = voltage ÷ current\n",
       "\n",
       "This allows for flexible calculations based on the available information."
      ]
     },
     {
      "cell_type": "code",
      "execution_count": null,
      "metadata": {},
      "outputs": [],
      "source": [
       "# Custom Tool: Ohm's Law Calculator\n",
       "def ohms_law(voltage=None, current=None, resistance=None):\n",
       "    if voltage is None:\n",
       "        return f\"Voltage = {current} * {resistance} = {current * resistance} V\"\n",
       "    elif current is None:\n",
       "        return f\"Current = {voltage} / {resistance} = {voltage / resistance} A\"\n",
       "    elif resistance is None:\n",
       "        return f\"Resistance = {voltage} / {current} = {voltage / current} Ω\"\n"
      ]
     },
     {
      "cell_type": "markdown",
      "metadata": {},
      "source": [
       "## Main Interaction Loop\n",
       "\n",
       "Finally, we create a simple interactive loop that allows users to ask questions. The system has two modes of operation:\n",
       "\n",
       "1. **Calculation Mode**: If the user's input contains the word \"calculate,\" the system uses the Ohm's Law calculator to compute an electrical property. In this implementation, it always calculates current using fixed values (voltage=5V, resistance=10Ω).\n",
       "\n",
       "2. **Question-Answering Mode**: For all other inputs, the system uses the pre-trained QA model to find an answer within a given context. The context is fixed to a simple statement of Ohm's Law (\"Ohm's Law states that V = I * R.\").\n",
       "\n",
       "The loop continues until the user types 'exit'.\n",
       "\n",
       "### Limitations of this implementation:\n",
       "- The calculation mode doesn't parse user inputs to extract specific values\n",
       "- The QA model is limited by the minimal context provided\n",
       "- There's no natural language understanding to determine which mode to use\n",
       "\n",
       "These limitations could be addressed in a more sophisticated implementation."
      ]
     },
     {
      "cell_type": "code",
      "execution_count": null,
      "metadata": {},
      "outputs": [],
      "source": [
       "# Simple Agent Loop\n",
       "while True:\n",
       "    user_input = input(\"Ask your electronics question (type 'exit' to quit): \")\n",
       "    if user_input.lower() == \"exit\":\n",
       "        break\n",
       "    if \"calculate\" in user_input.lower():\n",
       "        # Dummy calculator logic\n",
       "        print(ohms_law(voltage=5, resistance=10))\n",
       "    else:\n",
       "        response = qa_pipeline(question=user_input, context=\"Ohm's Law states that V = I * R.\")\n",
       "        print(\"Answer:\", response['answer'])"
      ]
     },
     {
      "cell_type": "markdown",
      "metadata": {},
      "source": [
       "## Potential Improvements\n",
       "\n",
       "This notebook provides a basic framework that could be extended in several ways:\n",
       "\n",
       "1. **Improved Natural Language Understanding**: Use intent recognition to better determine when to calculate vs. answer questions.\n",
       "\n",
       "2. **Parameter Extraction**: Parse user inputs to extract specific values for voltage, current, and resistance.\n",
       "\n",
       "3. **Expanded Knowledge Base**: Provide a more comprehensive context for the QA model, including information about other electronics concepts.\n",
       "\n",
       "4. **Additional Calculators**: Add tools for other electronics formulas like power calculations (P = V × I) or capacitor/inductor equations.\n",
       "\n",
       "5. **User Interface**: Develop a web interface or GUI to make the system more accessible to users.\n",
       "\n",
       "6. **Feedback Loop**: Implement a mechanism to learn from user interactions and improve responses over time."
      ]
     }
    ],
    "metadata": {
     "kernelspec": {
      "display_name": ".venv",
      "language": "python",
      "name": "python3"
     },
     "language_info": {
      "codemirror_mode": {
       "name": "ipython",
       "version": 3
      },
      "file_extension": ".py",
      "mimetype": "text/x-python",
      "name": "python",
      "nbconvert_exporter": "python",
      "pygments_lexer": "ipython3",
      "version": "3.13.2"
     }
    },
    "nbformat": 4,
    "nbformat_minor": 2
   }