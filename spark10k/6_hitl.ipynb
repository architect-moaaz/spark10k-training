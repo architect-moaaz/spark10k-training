{
 "cells": [
  {
   "cell_type": "markdown",
   "metadata": {},
   "source": [
    "# Human-in-the-Loop (HITL) with LangGraph\n",
    "\n",
    "This notebook demonstrates how to implement Human-in-the-Loop (HITL) functionality in LangGraph - allowing human intervention during the execution of an AI agent workflow.\n",
    "\n",
    "## Objective \n",
    "\n",
    "This notebook demonstrates how to implement **Human-in-the-Loop (HITL)** functionality within a LangGraph agent system. The primary goal is to create an AI assistant that can pause its execution at critical points, allowing a human operator to review, modify, or abort actions before they're taken.\n",
    "\n",
    "Specifically, we'll learn how to:\n",
    "\n",
    "- **Create an interruptible agent workflow**  \n",
    "  Building a graph where execution can be paused at strategic points (in this case, before tools are called)\n",
    "\n",
    "- **Implement manual approval processes**  \n",
    "  Allowing humans to review what the AI plans to do before it happens\n",
    "\n",
    "- **Modify agent behavior mid-execution**  \n",
    "  Demonstrating how human operators can change parameters, redirect queries, or adjust the agent's intended actions\n",
    "\n",
    "- **Resume execution after human intervention**  \n",
    "  Continuing the flow after review, either with the original plan or with human-modified instructions\n",
    "\n",
    "- **Maintain state across interruptions**  \n",
    "  Using checkpointing to preserve the agent's state during pauses\n",
    "\n",
    "---\n",
    "\n",
    "This approach is particularly valuable for applications where:\n",
    "\n",
    "- Accuracy is critical and human oversight adds value  \n",
    "- AI actions might have real-world consequences  \n",
    "- You want to gradually build trust in an automated system  \n",
    "- You need an auditable trail of decision-making with human approval steps  \n",
    "- You're combining automated efficiency with human judgment  \n",
    "\n",
    "---\n",
    "\n",
    "The notebook uses a **weather query example**, where a search tool is used to look up information. The human can intercept the search query before it's executed and modify it if needed, showing how HITL can be implemented in a real-world scenario.\n",
    "\n",
    "\n",
    "## Package Installation"
   ]
  },
  {
   "cell_type": "code",
   "execution_count": 3,
   "metadata": {},
   "outputs": [
    {
     "data": {
      "text/plain": [
       "['Requirement already satisfied: langchain in /Users/m/Work/personal/.venv/lib/python3.13/site-packages (0.3.21)',\n",
       " 'Requirement already satisfied: langgraph in /Users/m/Work/personal/.venv/lib/python3.13/site-packages (0.3.18)',\n",
       " 'Requirement already satisfied: openai in /Users/m/Work/personal/.venv/lib/python3.13/site-packages (1.66.3)',\n",
       " 'Collecting pygraphviz',\n",
       " '  Using cached pygraphviz-1.14.tar.gz (106 kB)',\n",
       " '  Installing build dependencies: started',\n",
       " \"  Installing build dependencies: finished with status 'done'\",\n",
       " '  Getting requirements to build wheel: started',\n",
       " \"  Getting requirements to build wheel: finished with status 'done'\",\n",
       " '  Preparing metadata (pyproject.toml): started',\n",
       " \"  Preparing metadata (pyproject.toml): finished with status 'done'\",\n",
       " 'Requirement already satisfied: langchain-core<1.0.0,>=0.3.45 in /Users/m/Work/personal/.venv/lib/python3.13/site-packages (from langchain) (0.3.47)',\n",
       " 'Requirement already satisfied: langchain-text-splitters<1.0.0,>=0.3.7 in /Users/m/Work/personal/.venv/lib/python3.13/site-packages (from langchain) (0.3.7)',\n",
       " 'Requirement already satisfied: langsmith<0.4,>=0.1.17 in /Users/m/Work/personal/.venv/lib/python3.13/site-packages (from langchain) (0.3.18)',\n",
       " 'Requirement already satisfied: pydantic<3.0.0,>=2.7.4 in /Users/m/Work/personal/.venv/lib/python3.13/site-packages (from langchain) (2.10.6)',\n",
       " 'Requirement already satisfied: SQLAlchemy<3,>=1.4 in /Users/m/Work/personal/.venv/lib/python3.13/site-packages (from langchain) (2.0.39)',\n",
       " 'Requirement already satisfied: requests<3,>=2 in /Users/m/Work/personal/.venv/lib/python3.13/site-packages (from langchain) (2.32.3)',\n",
       " 'Requirement already satisfied: PyYAML>=5.3 in /Users/m/Work/personal/.venv/lib/python3.13/site-packages (from langchain) (6.0.2)',\n",
       " 'Requirement already satisfied: langgraph-checkpoint<3.0.0,>=2.0.10 in /Users/m/Work/personal/.venv/lib/python3.13/site-packages (from langgraph) (2.0.21)',\n",
       " 'Requirement already satisfied: langgraph-prebuilt<0.2,>=0.1.1 in /Users/m/Work/personal/.venv/lib/python3.13/site-packages (from langgraph) (0.1.4)',\n",
       " 'Requirement already satisfied: langgraph-sdk<0.2.0,>=0.1.42 in /Users/m/Work/personal/.venv/lib/python3.13/site-packages (from langgraph) (0.1.58)',\n",
       " 'Requirement already satisfied: anyio<5,>=3.5.0 in /Users/m/Work/personal/.venv/lib/python3.13/site-packages (from openai) (4.9.0)',\n",
       " 'Requirement already satisfied: distro<2,>=1.7.0 in /Users/m/Work/personal/.venv/lib/python3.13/site-packages (from openai) (1.9.0)',\n",
       " 'Requirement already satisfied: httpx<1,>=0.23.0 in /Users/m/Work/personal/.venv/lib/python3.13/site-packages (from openai) (0.28.1)',\n",
       " 'Requirement already satisfied: jiter<1,>=0.4.0 in /Users/m/Work/personal/.venv/lib/python3.13/site-packages (from openai) (0.9.0)',\n",
       " 'Requirement already satisfied: sniffio in /Users/m/Work/personal/.venv/lib/python3.13/site-packages (from openai) (1.3.1)',\n",
       " 'Requirement already satisfied: tqdm>4 in /Users/m/Work/personal/.venv/lib/python3.13/site-packages (from openai) (4.67.1)',\n",
       " 'Requirement already satisfied: typing-extensions<5,>=4.11 in /Users/m/Work/personal/.venv/lib/python3.13/site-packages (from openai) (4.12.2)',\n",
       " 'Requirement already satisfied: idna>=2.8 in /Users/m/Work/personal/.venv/lib/python3.13/site-packages (from anyio<5,>=3.5.0->openai) (3.10)',\n",
       " 'Requirement already satisfied: certifi in /Users/m/Work/personal/.venv/lib/python3.13/site-packages (from httpx<1,>=0.23.0->openai) (2025.1.31)',\n",
       " 'Requirement already satisfied: httpcore==1.* in /Users/m/Work/personal/.venv/lib/python3.13/site-packages (from httpx<1,>=0.23.0->openai) (1.0.7)',\n",
       " 'Requirement already satisfied: h11<0.15,>=0.13 in /Users/m/Work/personal/.venv/lib/python3.13/site-packages (from httpcore==1.*->httpx<1,>=0.23.0->openai) (0.14.0)',\n",
       " 'Requirement already satisfied: tenacity!=8.4.0,<10.0.0,>=8.1.0 in /Users/m/Work/personal/.venv/lib/python3.13/site-packages (from langchain-core<1.0.0,>=0.3.45->langchain) (9.0.0)',\n",
       " 'Requirement already satisfied: jsonpatch<2.0,>=1.33 in /Users/m/Work/personal/.venv/lib/python3.13/site-packages (from langchain-core<1.0.0,>=0.3.45->langchain) (1.33)',\n",
       " 'Requirement already satisfied: packaging<25,>=23.2 in /Users/m/Work/personal/.venv/lib/python3.13/site-packages (from langchain-core<1.0.0,>=0.3.45->langchain) (24.2)',\n",
       " 'Requirement already satisfied: msgpack<2.0.0,>=1.1.0 in /Users/m/Work/personal/.venv/lib/python3.13/site-packages (from langgraph-checkpoint<3.0.0,>=2.0.10->langgraph) (1.1.0)',\n",
       " 'Requirement already satisfied: orjson>=3.10.1 in /Users/m/Work/personal/.venv/lib/python3.13/site-packages (from langgraph-sdk<0.2.0,>=0.1.42->langgraph) (3.10.15)',\n",
       " 'Requirement already satisfied: requests-toolbelt<2.0.0,>=1.0.0 in /Users/m/Work/personal/.venv/lib/python3.13/site-packages (from langsmith<0.4,>=0.1.17->langchain) (1.0.0)',\n",
       " 'Requirement already satisfied: zstandard<0.24.0,>=0.23.0 in /Users/m/Work/personal/.venv/lib/python3.13/site-packages (from langsmith<0.4,>=0.1.17->langchain) (0.23.0)',\n",
       " 'Requirement already satisfied: annotated-types>=0.6.0 in /Users/m/Work/personal/.venv/lib/python3.13/site-packages (from pydantic<3.0.0,>=2.7.4->langchain) (0.7.0)',\n",
       " 'Requirement already satisfied: pydantic-core==2.27.2 in /Users/m/Work/personal/.venv/lib/python3.13/site-packages (from pydantic<3.0.0,>=2.7.4->langchain) (2.27.2)',\n",
       " 'Requirement already satisfied: charset-normalizer<4,>=2 in /Users/m/Work/personal/.venv/lib/python3.13/site-packages (from requests<3,>=2->langchain) (3.4.1)',\n",
       " 'Requirement already satisfied: urllib3<3,>=1.21.1 in /Users/m/Work/personal/.venv/lib/python3.13/site-packages (from requests<3,>=2->langchain) (2.3.0)',\n",
       " 'Requirement already satisfied: jsonpointer>=1.9 in /Users/m/Work/personal/.venv/lib/python3.13/site-packages (from jsonpatch<2.0,>=1.33->langchain-core<1.0.0,>=0.3.45->langchain) (3.0.0)',\n",
       " 'Building wheels for collected packages: pygraphviz',\n",
       " '  Building wheel for pygraphviz (pyproject.toml): started',\n",
       " \"  Building wheel for pygraphviz (pyproject.toml): finished with status 'error'\",\n",
       " '  \\x1b[1;31merror\\x1b[0m: \\x1b[1msubprocess-exited-with-error\\x1b[0m',\n",
       " '  ',\n",
       " '  \\x1b[31m×\\x1b[0m \\x1b[32mBuilding wheel for pygraphviz \\x1b[0m\\x1b[1;32m(\\x1b[0m\\x1b[32mpyproject.toml\\x1b[0m\\x1b[1;32m)\\x1b[0m did not run successfully.',\n",
       " '  \\x1b[31m│\\x1b[0m exit code: \\x1b[1;36m1\\x1b[0m',\n",
       " '  \\x1b[31m╰─>\\x1b[0m \\x1b[31m[100 lines of output]\\x1b[0m',\n",
       " '  \\x1b[31m   \\x1b[0m /private/var/folders/v0/pct0272j5r1fspj35flrgxzw0000gn/T/pip-build-env-of6zcyo9/overlay/lib/python3.13/site-packages/setuptools/config/_apply_pyprojecttoml.py:82: SetuptoolsDeprecationWarning: `project.license` as a TOML table is deprecated',\n",
       " '  \\x1b[31m   \\x1b[0m !!',\n",
       " '  \\x1b[31m   \\x1b[0m ',\n",
       " '  \\x1b[31m   \\x1b[0m         ********************************************************************************',\n",
       " '  \\x1b[31m   \\x1b[0m         Please use a simple string containing a SPDX expression for `project.license`. You can also use `project.license-files`.',\n",
       " '  \\x1b[31m   \\x1b[0m ',\n",
       " '  \\x1b[31m   \\x1b[0m         By 2026-Feb-18, you need to update your project and remove deprecated calls',\n",
       " '  \\x1b[31m   \\x1b[0m         or your builds will no longer be supported.',\n",
       " '  \\x1b[31m   \\x1b[0m ',\n",
       " '  \\x1b[31m   \\x1b[0m         See https://packaging.python.org/en/latest/guides/writing-pyproject-toml/#license for details.',\n",
       " '  \\x1b[31m   \\x1b[0m         ********************************************************************************',\n",
       " '  \\x1b[31m   \\x1b[0m ',\n",
       " '  \\x1b[31m   \\x1b[0m !!',\n",
       " '  \\x1b[31m   \\x1b[0m   corresp(dist, value, root_dir)',\n",
       " '  \\x1b[31m   \\x1b[0m /private/var/folders/v0/pct0272j5r1fspj35flrgxzw0000gn/T/pip-build-env-of6zcyo9/overlay/lib/python3.13/site-packages/setuptools/config/_apply_pyprojecttoml.py:61: SetuptoolsDeprecationWarning: License classifiers are deprecated.',\n",
       " '  \\x1b[31m   \\x1b[0m !!',\n",
       " '  \\x1b[31m   \\x1b[0m ',\n",
       " '  \\x1b[31m   \\x1b[0m         ********************************************************************************',\n",
       " '  \\x1b[31m   \\x1b[0m         Please consider removing the following classifiers in favor of a SPDX license expression:',\n",
       " '  \\x1b[31m   \\x1b[0m ',\n",
       " '  \\x1b[31m   \\x1b[0m         License :: OSI Approved :: BSD License',\n",
       " '  \\x1b[31m   \\x1b[0m ',\n",
       " '  \\x1b[31m   \\x1b[0m         See https://packaging.python.org/en/latest/guides/writing-pyproject-toml/#license for details.',\n",
       " '  \\x1b[31m   \\x1b[0m         ********************************************************************************',\n",
       " '  \\x1b[31m   \\x1b[0m ',\n",
       " '  \\x1b[31m   \\x1b[0m !!',\n",
       " '  \\x1b[31m   \\x1b[0m   dist._finalize_license_expression()',\n",
       " '  \\x1b[31m   \\x1b[0m /private/var/folders/v0/pct0272j5r1fspj35flrgxzw0000gn/T/pip-build-env-of6zcyo9/overlay/lib/python3.13/site-packages/setuptools/dist.py:760: SetuptoolsDeprecationWarning: License classifiers are deprecated.',\n",
       " '  \\x1b[31m   \\x1b[0m !!',\n",
       " '  \\x1b[31m   \\x1b[0m ',\n",
       " '  \\x1b[31m   \\x1b[0m         ********************************************************************************',\n",
       " '  \\x1b[31m   \\x1b[0m         Please consider removing the following classifiers in favor of a SPDX license expression:',\n",
       " '  \\x1b[31m   \\x1b[0m ',\n",
       " '  \\x1b[31m   \\x1b[0m         License :: OSI Approved :: BSD License',\n",
       " '  \\x1b[31m   \\x1b[0m ',\n",
       " '  \\x1b[31m   \\x1b[0m         See https://packaging.python.org/en/latest/guides/writing-pyproject-toml/#license for details.',\n",
       " '  \\x1b[31m   \\x1b[0m         ********************************************************************************',\n",
       " '  \\x1b[31m   \\x1b[0m ',\n",
       " '  \\x1b[31m   \\x1b[0m !!',\n",
       " '  \\x1b[31m   \\x1b[0m   self._finalize_license_expression()',\n",
       " '  \\x1b[31m   \\x1b[0m running bdist_wheel',\n",
       " '  \\x1b[31m   \\x1b[0m running build',\n",
       " '  \\x1b[31m   \\x1b[0m running build_py',\n",
       " '  \\x1b[31m   \\x1b[0m creating build/lib.macosx-14.0-arm64-cpython-313/pygraphviz',\n",
       " '  \\x1b[31m   \\x1b[0m copying pygraphviz/scraper.py -> build/lib.macosx-14.0-arm64-cpython-313/pygraphviz',\n",
       " '  \\x1b[31m   \\x1b[0m copying pygraphviz/graphviz.py -> build/lib.macosx-14.0-arm64-cpython-313/pygraphviz',\n",
       " '  \\x1b[31m   \\x1b[0m copying pygraphviz/__init__.py -> build/lib.macosx-14.0-arm64-cpython-313/pygraphviz',\n",
       " '  \\x1b[31m   \\x1b[0m copying pygraphviz/agraph.py -> build/lib.macosx-14.0-arm64-cpython-313/pygraphviz',\n",
       " '  \\x1b[31m   \\x1b[0m copying pygraphviz/testing.py -> build/lib.macosx-14.0-arm64-cpython-313/pygraphviz',\n",
       " '  \\x1b[31m   \\x1b[0m creating build/lib.macosx-14.0-arm64-cpython-313/pygraphviz/tests',\n",
       " '  \\x1b[31m   \\x1b[0m copying pygraphviz/tests/test_unicode.py -> build/lib.macosx-14.0-arm64-cpython-313/pygraphviz/tests',\n",
       " '  \\x1b[31m   \\x1b[0m copying pygraphviz/tests/test_scraper.py -> build/lib.macosx-14.0-arm64-cpython-313/pygraphviz/tests',\n",
       " '  \\x1b[31m   \\x1b[0m copying pygraphviz/tests/test_readwrite.py -> build/lib.macosx-14.0-arm64-cpython-313/pygraphviz/tests',\n",
       " '  \\x1b[31m   \\x1b[0m copying pygraphviz/tests/test_string.py -> build/lib.macosx-14.0-arm64-cpython-313/pygraphviz/tests',\n",
       " '  \\x1b[31m   \\x1b[0m copying pygraphviz/tests/__init__.py -> build/lib.macosx-14.0-arm64-cpython-313/pygraphviz/tests',\n",
       " '  \\x1b[31m   \\x1b[0m copying pygraphviz/tests/test_html.py -> build/lib.macosx-14.0-arm64-cpython-313/pygraphviz/tests',\n",
       " '  \\x1b[31m   \\x1b[0m copying pygraphviz/tests/test_node_attributes.py -> build/lib.macosx-14.0-arm64-cpython-313/pygraphviz/tests',\n",
       " '  \\x1b[31m   \\x1b[0m copying pygraphviz/tests/test_drawing.py -> build/lib.macosx-14.0-arm64-cpython-313/pygraphviz/tests',\n",
       " '  \\x1b[31m   \\x1b[0m copying pygraphviz/tests/test_repr_mimebundle.py -> build/lib.macosx-14.0-arm64-cpython-313/pygraphviz/tests',\n",
       " '  \\x1b[31m   \\x1b[0m copying pygraphviz/tests/test_subgraph.py -> build/lib.macosx-14.0-arm64-cpython-313/pygraphviz/tests',\n",
       " '  \\x1b[31m   \\x1b[0m copying pygraphviz/tests/test_close.py -> build/lib.macosx-14.0-arm64-cpython-313/pygraphviz/tests',\n",
       " '  \\x1b[31m   \\x1b[0m copying pygraphviz/tests/test_edge_attributes.py -> build/lib.macosx-14.0-arm64-cpython-313/pygraphviz/tests',\n",
       " '  \\x1b[31m   \\x1b[0m copying pygraphviz/tests/test_clear.py -> build/lib.macosx-14.0-arm64-cpython-313/pygraphviz/tests',\n",
       " '  \\x1b[31m   \\x1b[0m copying pygraphviz/tests/test_layout.py -> build/lib.macosx-14.0-arm64-cpython-313/pygraphviz/tests',\n",
       " '  \\x1b[31m   \\x1b[0m copying pygraphviz/tests/test_attribute_defaults.py -> build/lib.macosx-14.0-arm64-cpython-313/pygraphviz/tests',\n",
       " '  \\x1b[31m   \\x1b[0m copying pygraphviz/tests/test_graph.py -> build/lib.macosx-14.0-arm64-cpython-313/pygraphviz/tests',\n",
       " '  \\x1b[31m   \\x1b[0m running egg_info',\n",
       " '  \\x1b[31m   \\x1b[0m writing pygraphviz.egg-info/PKG-INFO',\n",
       " '  \\x1b[31m   \\x1b[0m writing dependency_links to pygraphviz.egg-info/dependency_links.txt',\n",
       " '  \\x1b[31m   \\x1b[0m writing top-level names to pygraphviz.egg-info/top_level.txt',\n",
       " \"  \\x1b[31m   \\x1b[0m reading manifest file 'pygraphviz.egg-info/SOURCES.txt'\",\n",
       " \"  \\x1b[31m   \\x1b[0m reading manifest template 'MANIFEST.in'\",\n",
       " \"  \\x1b[31m   \\x1b[0m warning: no files found matching '*.swg'\",\n",
       " \"  \\x1b[31m   \\x1b[0m warning: no files found matching '*.png' under directory 'doc'\",\n",
       " \"  \\x1b[31m   \\x1b[0m warning: no files found matching '*.html' under directory 'doc'\",\n",
       " \"  \\x1b[31m   \\x1b[0m warning: no files found matching '*.txt' under directory 'doc'\",\n",
       " \"  \\x1b[31m   \\x1b[0m warning: no files found matching '*.css' under directory 'doc'\",\n",
       " \"  \\x1b[31m   \\x1b[0m warning: no previously-included files matching '*~' found anywhere in distribution\",\n",
       " \"  \\x1b[31m   \\x1b[0m warning: no previously-included files matching '*.pyc' found anywhere in distribution\",\n",
       " \"  \\x1b[31m   \\x1b[0m warning: no previously-included files matching '.svn' found anywhere in distribution\",\n",
       " \"  \\x1b[31m   \\x1b[0m no previously-included directories found matching 'doc/build'\",\n",
       " \"  \\x1b[31m   \\x1b[0m adding license file 'LICENSE'\",\n",
       " \"  \\x1b[31m   \\x1b[0m writing manifest file 'pygraphviz.egg-info/SOURCES.txt'\",\n",
       " '  \\x1b[31m   \\x1b[0m copying pygraphviz/graphviz.i -> build/lib.macosx-14.0-arm64-cpython-313/pygraphviz',\n",
       " '  \\x1b[31m   \\x1b[0m copying pygraphviz/graphviz_wrap.c -> build/lib.macosx-14.0-arm64-cpython-313/pygraphviz',\n",
       " '  \\x1b[31m   \\x1b[0m running build_ext',\n",
       " \"  \\x1b[31m   \\x1b[0m building 'pygraphviz._graphviz' extension\",\n",
       " '  \\x1b[31m   \\x1b[0m creating build/temp.macosx-14.0-arm64-cpython-313/pygraphviz',\n",
       " '  \\x1b[31m   \\x1b[0m clang -fno-strict-overflow -Wsign-compare -Wunreachable-code -fno-common -dynamic -DNDEBUG -g -O3 -Wall -DSWIG_PYTHON_STRICT_BYTE_CHAR -I/Users/m/Work/personal/.venv/include -I/opt/homebrew/opt/python@3.13/Frameworks/Python.framework/Versions/3.13/include/python3.13 -c pygraphviz/graphviz_wrap.c -o build/temp.macosx-14.0-arm64-cpython-313/pygraphviz/graphviz_wrap.o',\n",
       " \"  \\x1b[31m   \\x1b[0m pygraphviz/graphviz_wrap.c:9:9: warning: 'SWIG_PYTHON_STRICT_BYTE_CHAR' macro redefined [-Wmacro-redefined]\",\n",
       " '  \\x1b[31m   \\x1b[0m #define SWIG_PYTHON_STRICT_BYTE_CHAR',\n",
       " '  \\x1b[31m   \\x1b[0m         ^',\n",
       " '  \\x1b[31m   \\x1b[0m <command line>:2:9: note: previous definition is here',\n",
       " '  \\x1b[31m   \\x1b[0m #define SWIG_PYTHON_STRICT_BYTE_CHAR 1',\n",
       " '  \\x1b[31m   \\x1b[0m         ^',\n",
       " \"  \\x1b[31m   \\x1b[0m pygraphviz/graphviz_wrap.c:3023:10: fatal error: 'graphviz/cgraph.h' file not found\",\n",
       " '  \\x1b[31m   \\x1b[0m #include \"graphviz/cgraph.h\"',\n",
       " '  \\x1b[31m   \\x1b[0m          ^~~~~~~~~~~~~~~~~~~',\n",
       " '  \\x1b[31m   \\x1b[0m 1 warning and 1 error generated.',\n",
       " \"  \\x1b[31m   \\x1b[0m error: command '/usr/bin/clang' failed with exit code 1\",\n",
       " '  \\x1b[31m   \\x1b[0m \\x1b[31m[end of output]\\x1b[0m',\n",
       " '  ',\n",
       " '  \\x1b[1;35mnote\\x1b[0m: This error originates from a subprocess, and is likely not a problem with pip.',\n",
       " '\\x1b[31m  ERROR: Failed building wheel for pygraphviz\\x1b[0m\\x1b[31m',\n",
       " '\\x1b[0mFailed to build pygraphviz',\n",
       " '\\x1b[31mERROR: Failed to build installable wheels for some pyproject.toml based projects (pygraphviz)\\x1b[0m\\x1b[31m',\n",
       " '\\x1b[0m']"
      ]
     },
     "execution_count": 3,
     "metadata": {},
     "output_type": "execute_result"
    }
   ],
   "source": [
    "!!pip install langchain langgraph openai pygraphviz"
   ]
  },
  {
   "cell_type": "code",
   "execution_count": 1,
   "metadata": {},
   "outputs": [],
   "source": [
    "from dotenv import load_dotenv\n",
    "\n",
    "_ = load_dotenv()"
   ]
  },
  {
   "cell_type": "code",
   "execution_count": 8,
   "metadata": {},
   "outputs": [],
   "source": [
    "from langgraph.graph import StateGraph, END\n",
    "from typing import TypedDict, Annotated\n",
    "import operator\n",
    "from langchain_core.messages import AnyMessage, SystemMessage, HumanMessage, ToolMessage\n",
    "from langchain_openai import ChatOpenAI\n",
    "from langchain_community.tools.tavily_search import TavilySearchResults\n",
    "from langgraph.checkpoint.memory import MemorySaver\n",
    "\n",
    "memory =  MemorySaver()"
   ]
  },
  {
   "cell_type": "code",
   "execution_count": 9,
   "metadata": {},
   "outputs": [],
   "source": [
    "from uuid import uuid4\n",
    "from langchain_core.messages import AnyMessage, SystemMessage, HumanMessage, AIMessage\n",
    "\n",
    "\n",
    "def reduce_messages(left: list[AnyMessage], right: list[AnyMessage]) -> list[AnyMessage]:\n",
    "    # assign ids to messages that don't have them\n",
    "    for message in right:\n",
    "        if not message.id:\n",
    "            message.id = str(uuid4())\n",
    "    # merge the new messages with the existing messages\n",
    "    merged = left.copy()\n",
    "    for message in right:\n",
    "        for i, existing in enumerate(merged):\n",
    "            # replace any existing messages with the same id\n",
    "            if existing.id == message.id:\n",
    "                merged[i] = message\n",
    "                break\n",
    "        else:\n",
    "            # append any new messages to the end\n",
    "            merged.append(message)\n",
    "    return merged\n",
    "\n",
    "class AgentState(TypedDict):\n",
    "    messages: Annotated[list[AnyMessage], reduce_messages]"
   ]
  },
  {
   "cell_type": "code",
   "execution_count": 10,
   "metadata": {},
   "outputs": [],
   "source": [
    "tool = TavilySearchResults(max_results=2)"
   ]
  },
  {
   "cell_type": "markdown",
   "metadata": {},
   "source": [
    "Manual human approval"
   ]
  },
  {
   "cell_type": "code",
   "execution_count": 11,
   "metadata": {},
   "outputs": [],
   "source": [
    "class Agent:\n",
    "    def __init__(self, model, tools, system=\"\", checkpointer=None):\n",
    "        self.system = system\n",
    "        graph = StateGraph(AgentState)\n",
    "        graph.add_node(\"llm\", self.call_openai)\n",
    "        graph.add_node(\"action\", self.take_action)\n",
    "        graph.add_conditional_edges(\"llm\", self.exists_action, {True: \"action\", False: END})\n",
    "        graph.add_edge(\"action\", \"llm\")\n",
    "        graph.set_entry_point(\"llm\")\n",
    "        self.graph = graph.compile(\n",
    "            checkpointer=checkpointer,\n",
    "            interrupt_before=[\"action\"]\n",
    "        )\n",
    "        self.tools = {t.name: t for t in tools}\n",
    "        self.model = model.bind_tools(tools)\n",
    "\n",
    "    def call_openai(self, state: AgentState):\n",
    "        messages = state['messages']\n",
    "        if self.system:\n",
    "            messages = [SystemMessage(content=self.system)] + messages\n",
    "        message = self.model.invoke(messages)\n",
    "        return {'messages': [message]}\n",
    "\n",
    "    def exists_action(self, state: AgentState):\n",
    "        print(state)\n",
    "        result = state['messages'][-1]\n",
    "        return len(result.tool_calls) > 0\n",
    "\n",
    "    def take_action(self, state: AgentState):\n",
    "        tool_calls = state['messages'][-1].tool_calls\n",
    "        results = []\n",
    "        for t in tool_calls:\n",
    "            print(f\"Calling: {t}\")\n",
    "            result = self.tools[t['name']].invoke(t['args'])\n",
    "            results.append(ToolMessage(tool_call_id=t['id'], name=t['name'], content=str(result)))\n",
    "        print(\"Back to the model!\")\n",
    "        return {'messages': results}"
   ]
  },
  {
   "cell_type": "markdown",
   "metadata": {},
   "source": [
    "## 🤖 Agent Class – LangGraph Agent with Tool Use and HITL\n",
    "\n",
    "The `Agent` class defines a **LangGraph-based conversational agent** that can interact with tools and supports **Human-in-the-Loop (HITL)** interruptions before executing actions.\n",
    "\n",
    "---\n",
    "\n",
    "### 🔧 Constructor: `__init__`\n",
    "\n",
    "- **`model`**: A language model instance (e.g., OpenAI's GPT) that is used to generate responses.\n",
    "- **`tools`**: A list of tools the agent can use to take actions (e.g., web search, calculator).\n",
    "- **`system`**: An optional system prompt that can be prepended to every LLM call to guide its behavior.\n",
    "- **`checkpointer`** *(optional)*: Used to persist the agent’s state across interruptions or multiple runs.\n",
    "\n",
    "---\n",
    "\n",
    "### 🧠 Inside the Constructor\n",
    "\n",
    "- A `StateGraph` is initialized using `AgentState`, which defines how the agent maintains state (mainly the list of messages).\n",
    "\n",
    "#### Two main nodes are added:\n",
    "- `\"llm\"`: Calls the language model to generate the next message.\n",
    "- `\"action\"`: Executes any tool calls found in the LLM response.\n",
    "\n",
    "#### A conditional edge is added:\n",
    "- After the `\"llm\"` node runs, the graph checks whether the message contains a tool call (`exists_action`).\n",
    "- If `True`, it transitions to the `\"action\"` node.\n",
    "- If `False`, the graph ends (`END`).\n",
    "\n",
    "- An edge from `\"action\"` to `\"llm\"` creates a loop, allowing for continued conversation.\n",
    "- The graph is compiled with `interrupt_before=[\"action\"]`, which enables HITL behavior (pausing execution before the action is taken).\n",
    "- Tools are stored in a dictionary for quick lookup.\n",
    "- The model is bound to the tools using `.bind_tools()` so it can issue structured tool calls.\n",
    "\n",
    "---\n",
    "\n",
    "### 📩 Method: `call_openai`\n",
    "\n",
    "This method sends messages to the LLM.\n",
    "\n",
    "- Prepends the system message (if provided) to the current conversation.\n",
    "- Invokes the model using the current messages.\n",
    "- Returns the newly generated message wrapped in a dictionary.\n",
    "\n",
    "---\n",
    "\n",
    "### 🧪 Method: `exists_action`\n",
    "\n",
    "This function checks if the most recent message from the LLM contains tool calls.\n",
    "\n",
    "- Prints the current state (for debugging).\n",
    "- Returns `True` if tool calls exist, triggering the `\"action\"` node.\n",
    "- Otherwise, returns `False`, ending the graph execution.\n",
    "\n",
    "---\n",
    "\n",
    "### 🛠️ Method: `take_action`\n",
    "\n",
    "This function processes any tool calls made by the LLM.\n",
    "\n",
    "- Iterates over each tool call in the latest message.\n",
    "- For each tool:\n",
    "  - Finds the appropriate tool function using its name.\n",
    "  - Calls the tool with the given arguments.\n",
    "  - Wraps the tool response in a `ToolMessage`.\n",
    "\n",
    "- Returns the list of tool messages as the result, which are added back to the conversation history.\n",
    "\n",
    "---\n",
    "\n",
    "### 🔁 Agent Loop\n",
    "\n",
    "This loop of **LLM → action → LLM** allows the agent to carry out multi-step reasoning with tool use.\n",
    "\n",
    "---\n"
   ]
  },
  {
   "cell_type": "code",
   "execution_count": 12,
   "metadata": {},
   "outputs": [],
   "source": [
    "prompt = \"\"\"You are a smart research assistant. Use the search engine to look up information. \\\n",
    "You are allowed to make multiple calls (either together or in sequence). \\\n",
    "Only look up information when you are sure of what you want. \\\n",
    "If you need to look up some information before asking a follow up question, you are allowed to do that!\n",
    "\"\"\"\n",
    "model = ChatOpenAI(model=\"gpt-3.5-turbo\")\n",
    "abot = Agent(model, [tool], system=prompt, checkpointer=memory)"
   ]
  },
  {
   "cell_type": "code",
   "execution_count": 13,
   "metadata": {},
   "outputs": [
    {
     "name": "stdout",
     "output_type": "stream",
     "text": [
      "{'messages': [HumanMessage(content='Whats the weather in SF?', additional_kwargs={}, response_metadata={}, id='5163e7c6-2152-4883-8d78-0b824978209f'), AIMessage(content='', additional_kwargs={'tool_calls': [{'id': 'call_7lHCh3MnZMn0ZV4ZJzZfrqwU', 'function': {'arguments': '{\"query\":\"current weather in San Francisco\"}', 'name': 'tavily_search_results_json'}, 'type': 'function'}], 'refusal': None}, response_metadata={'token_usage': {'completion_tokens': 23, 'prompt_tokens': 152, 'total_tokens': 175, 'completion_tokens_details': {'accepted_prediction_tokens': 0, 'audio_tokens': 0, 'reasoning_tokens': 0, 'rejected_prediction_tokens': 0}, 'prompt_tokens_details': {'audio_tokens': 0, 'cached_tokens': 0}}, 'model_name': 'gpt-3.5-turbo-0125', 'system_fingerprint': None, 'id': 'chatcmpl-BELY2KTVkKOQPIV16u2CPKhUyhkd0', 'finish_reason': 'tool_calls', 'logprobs': None}, id='run-78c70358-8f92-47fb-a38f-9c756a09d2d3-0', tool_calls=[{'name': 'tavily_search_results_json', 'args': {'query': 'current weather in San Francisco'}, 'id': 'call_7lHCh3MnZMn0ZV4ZJzZfrqwU', 'type': 'tool_call'}], usage_metadata={'input_tokens': 152, 'output_tokens': 23, 'total_tokens': 175, 'input_token_details': {'audio': 0, 'cache_read': 0}, 'output_token_details': {'audio': 0, 'reasoning': 0}})]}\n",
      "{'messages': [AIMessage(content='', additional_kwargs={'tool_calls': [{'id': 'call_7lHCh3MnZMn0ZV4ZJzZfrqwU', 'function': {'arguments': '{\"query\":\"current weather in San Francisco\"}', 'name': 'tavily_search_results_json'}, 'type': 'function'}], 'refusal': None}, response_metadata={'token_usage': {'completion_tokens': 23, 'prompt_tokens': 152, 'total_tokens': 175, 'completion_tokens_details': {'accepted_prediction_tokens': 0, 'audio_tokens': 0, 'reasoning_tokens': 0, 'rejected_prediction_tokens': 0}, 'prompt_tokens_details': {'audio_tokens': 0, 'cached_tokens': 0}}, 'model_name': 'gpt-3.5-turbo-0125', 'system_fingerprint': None, 'id': 'chatcmpl-BELY2KTVkKOQPIV16u2CPKhUyhkd0', 'finish_reason': 'tool_calls', 'logprobs': None}, id='run-78c70358-8f92-47fb-a38f-9c756a09d2d3-0', tool_calls=[{'name': 'tavily_search_results_json', 'args': {'query': 'current weather in San Francisco'}, 'id': 'call_7lHCh3MnZMn0ZV4ZJzZfrqwU', 'type': 'tool_call'}], usage_metadata={'input_tokens': 152, 'output_tokens': 23, 'total_tokens': 175, 'input_token_details': {'audio': 0, 'cache_read': 0}, 'output_token_details': {'audio': 0, 'reasoning': 0}})]}\n",
      "()\n"
     ]
    }
   ],
   "source": [
    "messages = [HumanMessage(content=\"Whats the weather in SF?\")]\n",
    "thread = {\"configurable\": {\"thread_id\": \"1\"}}\n",
    "for event in abot.graph.stream({\"messages\": messages}, thread):\n",
    "    for v in event.values():\n",
    "        print(v)"
   ]
  },
  {
   "cell_type": "markdown",
   "metadata": {},
   "source": [
    "\n",
    "## 🧾 Understanding the Agent Output – Tool Call Example\n",
    "\n",
    "This output is a snapshot of the **AgentState** after one interaction in a LangGraph-based conversational agent. The agent is designed to use external tools (via tool calls) and supports Human-in-the-Loop (HITL) interruption before action execution.\n",
    "\n",
    "---\n",
    "\n",
    "### 🧑‍💬 User Message\n",
    "\n",
    "HumanMessage(content=\"Whats the weather in SF?\", ...)\n",
    "\n",
    "- Represents the user’s input.\n",
    "- `content`: The actual question sent by the user.\n",
    "- `id`: A unique identifier for tracking this message.\n",
    "- `additional_kwargs` and `response_metadata`: Empty or default values.\n",
    "\n",
    "---\n",
    "\n",
    "### 🤖 AI Message\n",
    "\n",
    "AIMessage(\n",
    "    content='',\n",
    "    additional_kwargs={\n",
    "        'tool_calls': [\n",
    "            {\n",
    "                'id': 'call_...',\n",
    "                'function': {\n",
    "                    'arguments': '{\"query\":\"current weather in San Francisco\"}',\n",
    "                    'name': 'tavily_search_results_json'\n",
    "                },\n",
    "                'type': 'function'\n",
    "            }\n",
    "        ],\n",
    "        'refusal': None\n",
    "    },\n",
    "    ...\n",
    ")\n",
    "\n",
    "- `content` is empty: The model chose to respond via a **tool call** instead of natural language.\n",
    "- `tool_calls`: The model generated a structured function call using the tool `tavily_search_results_json`.\n",
    "- Arguments passed: `{ \"query\": \"current weather in San Francisco\" }`\n",
    "- `finish_reason: 'tool_calls'`: Indicates the model stopped generation because it needs to call a function/tool.\n",
    "- `model_name`: GPT-3.5-turbo-0125 was used.\n",
    "- `response_metadata`: Contains information like token usage and system data.\n",
    "\n",
    "---\n",
    "\n",
    "### 🔁 Repeated Message\n",
    "\n",
    "The same `AIMessage` appears again in the output, likely printed from inside the agent logic (such as `exists_action()` or `take_action()`), confirming the tool call was recognized.\n",
    "\n",
    "---\n",
    "\n",
    "### 🟰 Final Output: `()`\n",
    "\n",
    "This is likely from a print statement or a function returning `None` at the end of execution. It indicates no explicit return value at that point in the code.\n",
    "\n",
    "---\n",
    "\n",
    "### 🧠 Summary\n",
    "\n",
    "- The agent received a question: **\"What's the weather in SF?\"**\n",
    "- It detected that a tool call was required to fetch real-time data.\n",
    "- It generated a **structured function call** to a tool named `tavily_search_results_json`.\n",
    "- The agent paused for HITL or tool execution before proceeding.\n",
    "- This is part of the **LLM → Tool → LLM** loop in LangGraph.\n"
   ]
  },
  {
   "cell_type": "code",
   "execution_count": 14,
   "metadata": {},
   "outputs": [
    {
     "data": {
      "text/plain": [
       "StateSnapshot(values={'messages': [HumanMessage(content='Whats the weather in SF?', additional_kwargs={}, response_metadata={}, id='5163e7c6-2152-4883-8d78-0b824978209f'), AIMessage(content='', additional_kwargs={'tool_calls': [{'id': 'call_7lHCh3MnZMn0ZV4ZJzZfrqwU', 'function': {'arguments': '{\"query\":\"current weather in San Francisco\"}', 'name': 'tavily_search_results_json'}, 'type': 'function'}], 'refusal': None}, response_metadata={'token_usage': {'completion_tokens': 23, 'prompt_tokens': 152, 'total_tokens': 175, 'completion_tokens_details': {'accepted_prediction_tokens': 0, 'audio_tokens': 0, 'reasoning_tokens': 0, 'rejected_prediction_tokens': 0}, 'prompt_tokens_details': {'audio_tokens': 0, 'cached_tokens': 0}}, 'model_name': 'gpt-3.5-turbo-0125', 'system_fingerprint': None, 'id': 'chatcmpl-BELY2KTVkKOQPIV16u2CPKhUyhkd0', 'finish_reason': 'tool_calls', 'logprobs': None}, id='run-78c70358-8f92-47fb-a38f-9c756a09d2d3-0', tool_calls=[{'name': 'tavily_search_results_json', 'args': {'query': 'current weather in San Francisco'}, 'id': 'call_7lHCh3MnZMn0ZV4ZJzZfrqwU', 'type': 'tool_call'}], usage_metadata={'input_tokens': 152, 'output_tokens': 23, 'total_tokens': 175, 'input_token_details': {'audio': 0, 'cache_read': 0}, 'output_token_details': {'audio': 0, 'reasoning': 0}})]}, next=('action',), config={'configurable': {'thread_id': '1', 'checkpoint_ns': '', 'checkpoint_id': '1f0081f5-c3cd-6988-8001-82977d716476'}}, metadata={'source': 'loop', 'writes': {'llm': {'messages': [AIMessage(content='', additional_kwargs={'tool_calls': [{'id': 'call_7lHCh3MnZMn0ZV4ZJzZfrqwU', 'function': {'arguments': '{\"query\":\"current weather in San Francisco\"}', 'name': 'tavily_search_results_json'}, 'type': 'function'}], 'refusal': None}, response_metadata={'token_usage': {'completion_tokens': 23, 'prompt_tokens': 152, 'total_tokens': 175, 'completion_tokens_details': {'accepted_prediction_tokens': 0, 'audio_tokens': 0, 'reasoning_tokens': 0, 'rejected_prediction_tokens': 0}, 'prompt_tokens_details': {'audio_tokens': 0, 'cached_tokens': 0}}, 'model_name': 'gpt-3.5-turbo-0125', 'system_fingerprint': None, 'id': 'chatcmpl-BELY2KTVkKOQPIV16u2CPKhUyhkd0', 'finish_reason': 'tool_calls', 'logprobs': None}, id='run-78c70358-8f92-47fb-a38f-9c756a09d2d3-0', tool_calls=[{'name': 'tavily_search_results_json', 'args': {'query': 'current weather in San Francisco'}, 'id': 'call_7lHCh3MnZMn0ZV4ZJzZfrqwU', 'type': 'tool_call'}], usage_metadata={'input_tokens': 152, 'output_tokens': 23, 'total_tokens': 175, 'input_token_details': {'audio': 0, 'cache_read': 0}, 'output_token_details': {'audio': 0, 'reasoning': 0}})]}}, 'thread_id': '1', 'step': 1, 'parents': {}}, created_at='2025-03-23T19:45:23.298533+00:00', parent_config={'configurable': {'thread_id': '1', 'checkpoint_ns': '', 'checkpoint_id': '1f0081f5-b6f8-62d0-8000-7bd3d1a38868'}}, tasks=(PregelTask(id='7378aa5e-0be5-c6cc-5ea5-6894fa1abb3f', name='action', path=('__pregel_pull', 'action'), error=None, interrupts=(), state=None, result=None),))"
      ]
     },
     "execution_count": 14,
     "metadata": {},
     "output_type": "execute_result"
    }
   ],
   "source": [
    "abot.graph.get_state(thread)"
   ]
  },
  {
   "cell_type": "code",
   "execution_count": 15,
   "metadata": {},
   "outputs": [
    {
     "data": {
      "text/plain": [
       "('action',)"
      ]
     },
     "execution_count": 15,
     "metadata": {},
     "output_type": "execute_result"
    }
   ],
   "source": [
    "abot.graph.get_state(thread).next"
   ]
  },
  {
   "cell_type": "markdown",
   "metadata": {},
   "source": [
    "continue after interrupt"
   ]
  },
  {
   "cell_type": "code",
   "execution_count": 16,
   "metadata": {},
   "outputs": [
    {
     "name": "stdout",
     "output_type": "stream",
     "text": [
      "Calling: {'name': 'tavily_search_results_json', 'args': {'query': 'current weather in San Francisco'}, 'id': 'call_7lHCh3MnZMn0ZV4ZJzZfrqwU', 'type': 'tool_call'}\n",
      "Back to the model!\n",
      "{'messages': [ToolMessage(content='[{\\'title\\': \\'Sunday, March 23, 2025. San Francisco, CA - Weather Forecast\\', \\'url\\': \\'https://weathershogun.com/weather/usa/ca/san-francisco/480/march/2025-03-23\\', \\'content\\': \"Sunday, March 23, 2025. San Francisco, CA - Weather Forecast\\\\n☰\\\\nSan Francisco, CA\\\\n\\\\nHome Contact Browse States Privacy Policy Terms and Conditions\\\\n°F)°C)\\\\n❮\\\\nToday Tomorrow Hourly 7 days 30 days March\\\\n❯\\\\nSan Francisco, California Weather:\\\\nBeach Hazards Statement (Potential hazards at beaches, such as dangerous currents, high surf, or unexpected waves.)\\\\nSunday, March 23, 2025\\\\nDay 66°\\\\nNight 48°\\\\nPrecipitation 0 %\\\\nWind 8 mph\\\\nUV Index (0 - 11+) 5\\\\nMonday\\\\n\\\\nHourly\\\\nToday\\\\nTomorrow\\\\n7 days\\\\n30 days [...] Weather Forecast History\\\\nLast Year\\'s Weather on This Day (March 23, 2024)\\\\nDay\\\\n59°\\\\nNight\\\\n52°\\\\nPlease note that while we strive for accuracy, the information provided may not always be correct. Use at your own risk.\\\\n© Copyright by WeatherShogun.com\", \\'score\\': 0.8866086525454546}, {\\'title\\': \\'Weather in San Francisco\\', \\'url\\': \\'https://www.weatherapi.com/\\', \\'content\\': \"{\\'location\\': {\\'name\\': \\'San Francisco\\', \\'region\\': \\'California\\', \\'country\\': \\'United States of America\\', \\'lat\\': 37.775, \\'lon\\': -122.4183, \\'tz_id\\': \\'America/Los_Angeles\\', \\'localtime_epoch\\': 1742756313, \\'localtime\\': \\'2025-03-23 11:58\\'}, \\'current\\': {\\'last_updated_epoch\\': 1742755500, \\'last_updated\\': \\'2025-03-23 11:45\\', \\'temp_c\\': 13.3, \\'temp_f\\': 55.9, \\'is_day\\': 1, \\'condition\\': {\\'text\\': \\'Partly cloudy\\', \\'icon\\': \\'//cdn.weatherapi.com/weather/64x64/day/116.png\\', \\'code\\': 1003}, \\'wind_mph\\': 2.2, \\'wind_kph\\': 3.6, \\'wind_degree\\': 20, \\'wind_dir\\': \\'NNE\\', \\'pressure_mb\\': 1022.0, \\'pressure_in\\': 30.18, \\'precip_mm\\': 0.0, \\'precip_in\\': 0.0, \\'humidity\\': 80, \\'cloud\\': 50, \\'feelslike_c\\': 13.9, \\'feelslike_f\\': 57.0, \\'windchill_c\\': 9.7, \\'windchill_f\\': 49.4, \\'heatindex_c\\': 9.8, \\'heatindex_f\\': 49.6, \\'dewpoint_c\\': 9.3, \\'dewpoint_f\\': 48.7, \\'vis_km\\': 16.0, \\'vis_miles\\': 9.0, \\'uv\\': 4.1, \\'gust_mph\\': 6.7, \\'gust_kph\\': 10.8}}\", \\'score\\': 0.863421}]', name='tavily_search_results_json', id='4373058c-23ee-4386-a77b-29a6da1b4c35', tool_call_id='call_7lHCh3MnZMn0ZV4ZJzZfrqwU')]}\n",
      "{'messages': [HumanMessage(content='Whats the weather in SF?', additional_kwargs={}, response_metadata={}, id='5163e7c6-2152-4883-8d78-0b824978209f'), AIMessage(content='', additional_kwargs={'tool_calls': [{'id': 'call_7lHCh3MnZMn0ZV4ZJzZfrqwU', 'function': {'arguments': '{\"query\":\"current weather in San Francisco\"}', 'name': 'tavily_search_results_json'}, 'type': 'function'}], 'refusal': None}, response_metadata={'token_usage': {'completion_tokens': 23, 'prompt_tokens': 152, 'total_tokens': 175, 'completion_tokens_details': {'accepted_prediction_tokens': 0, 'audio_tokens': 0, 'reasoning_tokens': 0, 'rejected_prediction_tokens': 0}, 'prompt_tokens_details': {'audio_tokens': 0, 'cached_tokens': 0}}, 'model_name': 'gpt-3.5-turbo-0125', 'system_fingerprint': None, 'id': 'chatcmpl-BELY2KTVkKOQPIV16u2CPKhUyhkd0', 'finish_reason': 'tool_calls', 'logprobs': None}, id='run-78c70358-8f92-47fb-a38f-9c756a09d2d3-0', tool_calls=[{'name': 'tavily_search_results_json', 'args': {'query': 'current weather in San Francisco'}, 'id': 'call_7lHCh3MnZMn0ZV4ZJzZfrqwU', 'type': 'tool_call'}], usage_metadata={'input_tokens': 152, 'output_tokens': 23, 'total_tokens': 175, 'input_token_details': {'audio': 0, 'cache_read': 0}, 'output_token_details': {'audio': 0, 'reasoning': 0}}), ToolMessage(content='[{\\'title\\': \\'Sunday, March 23, 2025. San Francisco, CA - Weather Forecast\\', \\'url\\': \\'https://weathershogun.com/weather/usa/ca/san-francisco/480/march/2025-03-23\\', \\'content\\': \"Sunday, March 23, 2025. San Francisco, CA - Weather Forecast\\\\n☰\\\\nSan Francisco, CA\\\\n\\\\nHome Contact Browse States Privacy Policy Terms and Conditions\\\\n°F)°C)\\\\n❮\\\\nToday Tomorrow Hourly 7 days 30 days March\\\\n❯\\\\nSan Francisco, California Weather:\\\\nBeach Hazards Statement (Potential hazards at beaches, such as dangerous currents, high surf, or unexpected waves.)\\\\nSunday, March 23, 2025\\\\nDay 66°\\\\nNight 48°\\\\nPrecipitation 0 %\\\\nWind 8 mph\\\\nUV Index (0 - 11+) 5\\\\nMonday\\\\n\\\\nHourly\\\\nToday\\\\nTomorrow\\\\n7 days\\\\n30 days [...] Weather Forecast History\\\\nLast Year\\'s Weather on This Day (March 23, 2024)\\\\nDay\\\\n59°\\\\nNight\\\\n52°\\\\nPlease note that while we strive for accuracy, the information provided may not always be correct. Use at your own risk.\\\\n© Copyright by WeatherShogun.com\", \\'score\\': 0.8866086525454546}, {\\'title\\': \\'Weather in San Francisco\\', \\'url\\': \\'https://www.weatherapi.com/\\', \\'content\\': \"{\\'location\\': {\\'name\\': \\'San Francisco\\', \\'region\\': \\'California\\', \\'country\\': \\'United States of America\\', \\'lat\\': 37.775, \\'lon\\': -122.4183, \\'tz_id\\': \\'America/Los_Angeles\\', \\'localtime_epoch\\': 1742756313, \\'localtime\\': \\'2025-03-23 11:58\\'}, \\'current\\': {\\'last_updated_epoch\\': 1742755500, \\'last_updated\\': \\'2025-03-23 11:45\\', \\'temp_c\\': 13.3, \\'temp_f\\': 55.9, \\'is_day\\': 1, \\'condition\\': {\\'text\\': \\'Partly cloudy\\', \\'icon\\': \\'//cdn.weatherapi.com/weather/64x64/day/116.png\\', \\'code\\': 1003}, \\'wind_mph\\': 2.2, \\'wind_kph\\': 3.6, \\'wind_degree\\': 20, \\'wind_dir\\': \\'NNE\\', \\'pressure_mb\\': 1022.0, \\'pressure_in\\': 30.18, \\'precip_mm\\': 0.0, \\'precip_in\\': 0.0, \\'humidity\\': 80, \\'cloud\\': 50, \\'feelslike_c\\': 13.9, \\'feelslike_f\\': 57.0, \\'windchill_c\\': 9.7, \\'windchill_f\\': 49.4, \\'heatindex_c\\': 9.8, \\'heatindex_f\\': 49.6, \\'dewpoint_c\\': 9.3, \\'dewpoint_f\\': 48.7, \\'vis_km\\': 16.0, \\'vis_miles\\': 9.0, \\'uv\\': 4.1, \\'gust_mph\\': 6.7, \\'gust_kph\\': 10.8}}\", \\'score\\': 0.863421}]', name='tavily_search_results_json', id='4373058c-23ee-4386-a77b-29a6da1b4c35', tool_call_id='call_7lHCh3MnZMn0ZV4ZJzZfrqwU'), AIMessage(content='The current weather in San Francisco is partly cloudy with a temperature of 55.9°F (13.3°C). The wind is blowing at 3.6 km/h from the NNE direction. The humidity is at 80%, and the UV index is 4.1.', additional_kwargs={'refusal': None}, response_metadata={'token_usage': {'completion_tokens': 60, 'prompt_tokens': 910, 'total_tokens': 970, 'completion_tokens_details': {'accepted_prediction_tokens': 0, 'audio_tokens': 0, 'reasoning_tokens': 0, 'rejected_prediction_tokens': 0}, 'prompt_tokens_details': {'audio_tokens': 0, 'cached_tokens': 0}}, 'model_name': 'gpt-3.5-turbo-0125', 'system_fingerprint': None, 'id': 'chatcmpl-BELZF1GE90rQ2MHfYvyeMJoyZcDW0', 'finish_reason': 'stop', 'logprobs': None}, id='run-0d1d2c4e-6ab4-4a1e-9f49-b6bd2815fec4-0', usage_metadata={'input_tokens': 910, 'output_tokens': 60, 'total_tokens': 970, 'input_token_details': {'audio': 0, 'cache_read': 0}, 'output_token_details': {'audio': 0, 'reasoning': 0}})]}\n",
      "{'messages': [AIMessage(content='The current weather in San Francisco is partly cloudy with a temperature of 55.9°F (13.3°C). The wind is blowing at 3.6 km/h from the NNE direction. The humidity is at 80%, and the UV index is 4.1.', additional_kwargs={'refusal': None}, response_metadata={'token_usage': {'completion_tokens': 60, 'prompt_tokens': 910, 'total_tokens': 970, 'completion_tokens_details': {'accepted_prediction_tokens': 0, 'audio_tokens': 0, 'reasoning_tokens': 0, 'rejected_prediction_tokens': 0}, 'prompt_tokens_details': {'audio_tokens': 0, 'cached_tokens': 0}}, 'model_name': 'gpt-3.5-turbo-0125', 'system_fingerprint': None, 'id': 'chatcmpl-BELZF1GE90rQ2MHfYvyeMJoyZcDW0', 'finish_reason': 'stop', 'logprobs': None}, id='run-0d1d2c4e-6ab4-4a1e-9f49-b6bd2815fec4-0', usage_metadata={'input_tokens': 910, 'output_tokens': 60, 'total_tokens': 970, 'input_token_details': {'audio': 0, 'cache_read': 0}, 'output_token_details': {'audio': 0, 'reasoning': 0}})]}\n"
     ]
    }
   ],
   "source": [
    "for event in abot.graph.stream(None, thread):\n",
    "    for v in event.values():\n",
    "        print(v)"
   ]
  },
  {
   "cell_type": "code",
   "execution_count": 17,
   "metadata": {},
   "outputs": [
    {
     "data": {
      "text/plain": [
       "StateSnapshot(values={'messages': [HumanMessage(content='Whats the weather in SF?', additional_kwargs={}, response_metadata={}, id='5163e7c6-2152-4883-8d78-0b824978209f'), AIMessage(content='', additional_kwargs={'tool_calls': [{'id': 'call_7lHCh3MnZMn0ZV4ZJzZfrqwU', 'function': {'arguments': '{\"query\":\"current weather in San Francisco\"}', 'name': 'tavily_search_results_json'}, 'type': 'function'}], 'refusal': None}, response_metadata={'token_usage': {'completion_tokens': 23, 'prompt_tokens': 152, 'total_tokens': 175, 'completion_tokens_details': {'accepted_prediction_tokens': 0, 'audio_tokens': 0, 'reasoning_tokens': 0, 'rejected_prediction_tokens': 0}, 'prompt_tokens_details': {'audio_tokens': 0, 'cached_tokens': 0}}, 'model_name': 'gpt-3.5-turbo-0125', 'system_fingerprint': None, 'id': 'chatcmpl-BELY2KTVkKOQPIV16u2CPKhUyhkd0', 'finish_reason': 'tool_calls', 'logprobs': None}, id='run-78c70358-8f92-47fb-a38f-9c756a09d2d3-0', tool_calls=[{'name': 'tavily_search_results_json', 'args': {'query': 'current weather in San Francisco'}, 'id': 'call_7lHCh3MnZMn0ZV4ZJzZfrqwU', 'type': 'tool_call'}], usage_metadata={'input_tokens': 152, 'output_tokens': 23, 'total_tokens': 175, 'input_token_details': {'audio': 0, 'cache_read': 0}, 'output_token_details': {'audio': 0, 'reasoning': 0}}), ToolMessage(content='[{\\'title\\': \\'Sunday, March 23, 2025. San Francisco, CA - Weather Forecast\\', \\'url\\': \\'https://weathershogun.com/weather/usa/ca/san-francisco/480/march/2025-03-23\\', \\'content\\': \"Sunday, March 23, 2025. San Francisco, CA - Weather Forecast\\\\n☰\\\\nSan Francisco, CA\\\\n\\\\nHome Contact Browse States Privacy Policy Terms and Conditions\\\\n°F)°C)\\\\n❮\\\\nToday Tomorrow Hourly 7 days 30 days March\\\\n❯\\\\nSan Francisco, California Weather:\\\\nBeach Hazards Statement (Potential hazards at beaches, such as dangerous currents, high surf, or unexpected waves.)\\\\nSunday, March 23, 2025\\\\nDay 66°\\\\nNight 48°\\\\nPrecipitation 0 %\\\\nWind 8 mph\\\\nUV Index (0 - 11+) 5\\\\nMonday\\\\n\\\\nHourly\\\\nToday\\\\nTomorrow\\\\n7 days\\\\n30 days [...] Weather Forecast History\\\\nLast Year\\'s Weather on This Day (March 23, 2024)\\\\nDay\\\\n59°\\\\nNight\\\\n52°\\\\nPlease note that while we strive for accuracy, the information provided may not always be correct. Use at your own risk.\\\\n© Copyright by WeatherShogun.com\", \\'score\\': 0.8866086525454546}, {\\'title\\': \\'Weather in San Francisco\\', \\'url\\': \\'https://www.weatherapi.com/\\', \\'content\\': \"{\\'location\\': {\\'name\\': \\'San Francisco\\', \\'region\\': \\'California\\', \\'country\\': \\'United States of America\\', \\'lat\\': 37.775, \\'lon\\': -122.4183, \\'tz_id\\': \\'America/Los_Angeles\\', \\'localtime_epoch\\': 1742756313, \\'localtime\\': \\'2025-03-23 11:58\\'}, \\'current\\': {\\'last_updated_epoch\\': 1742755500, \\'last_updated\\': \\'2025-03-23 11:45\\', \\'temp_c\\': 13.3, \\'temp_f\\': 55.9, \\'is_day\\': 1, \\'condition\\': {\\'text\\': \\'Partly cloudy\\', \\'icon\\': \\'//cdn.weatherapi.com/weather/64x64/day/116.png\\', \\'code\\': 1003}, \\'wind_mph\\': 2.2, \\'wind_kph\\': 3.6, \\'wind_degree\\': 20, \\'wind_dir\\': \\'NNE\\', \\'pressure_mb\\': 1022.0, \\'pressure_in\\': 30.18, \\'precip_mm\\': 0.0, \\'precip_in\\': 0.0, \\'humidity\\': 80, \\'cloud\\': 50, \\'feelslike_c\\': 13.9, \\'feelslike_f\\': 57.0, \\'windchill_c\\': 9.7, \\'windchill_f\\': 49.4, \\'heatindex_c\\': 9.8, \\'heatindex_f\\': 49.6, \\'dewpoint_c\\': 9.3, \\'dewpoint_f\\': 48.7, \\'vis_km\\': 16.0, \\'vis_miles\\': 9.0, \\'uv\\': 4.1, \\'gust_mph\\': 6.7, \\'gust_kph\\': 10.8}}\", \\'score\\': 0.863421}]', name='tavily_search_results_json', id='4373058c-23ee-4386-a77b-29a6da1b4c35', tool_call_id='call_7lHCh3MnZMn0ZV4ZJzZfrqwU'), AIMessage(content='The current weather in San Francisco is partly cloudy with a temperature of 55.9°F (13.3°C). The wind is blowing at 3.6 km/h from the NNE direction. The humidity is at 80%, and the UV index is 4.1.', additional_kwargs={'refusal': None}, response_metadata={'token_usage': {'completion_tokens': 60, 'prompt_tokens': 910, 'total_tokens': 970, 'completion_tokens_details': {'accepted_prediction_tokens': 0, 'audio_tokens': 0, 'reasoning_tokens': 0, 'rejected_prediction_tokens': 0}, 'prompt_tokens_details': {'audio_tokens': 0, 'cached_tokens': 0}}, 'model_name': 'gpt-3.5-turbo-0125', 'system_fingerprint': None, 'id': 'chatcmpl-BELZF1GE90rQ2MHfYvyeMJoyZcDW0', 'finish_reason': 'stop', 'logprobs': None}, id='run-0d1d2c4e-6ab4-4a1e-9f49-b6bd2815fec4-0', usage_metadata={'input_tokens': 910, 'output_tokens': 60, 'total_tokens': 970, 'input_token_details': {'audio': 0, 'cache_read': 0}, 'output_token_details': {'audio': 0, 'reasoning': 0}})]}, next=(), config={'configurable': {'thread_id': '1', 'checkpoint_ns': '', 'checkpoint_id': '1f0081f8-8f66-66f6-8003-9c932822f24d'}}, metadata={'source': 'loop', 'writes': {'llm': {'messages': [AIMessage(content='The current weather in San Francisco is partly cloudy with a temperature of 55.9°F (13.3°C). The wind is blowing at 3.6 km/h from the NNE direction. The humidity is at 80%, and the UV index is 4.1.', additional_kwargs={'refusal': None}, response_metadata={'token_usage': {'completion_tokens': 60, 'prompt_tokens': 910, 'total_tokens': 970, 'completion_tokens_details': {'accepted_prediction_tokens': 0, 'audio_tokens': 0, 'reasoning_tokens': 0, 'rejected_prediction_tokens': 0}, 'prompt_tokens_details': {'audio_tokens': 0, 'cached_tokens': 0}}, 'model_name': 'gpt-3.5-turbo-0125', 'system_fingerprint': None, 'id': 'chatcmpl-BELZF1GE90rQ2MHfYvyeMJoyZcDW0', 'finish_reason': 'stop', 'logprobs': None}, id='run-0d1d2c4e-6ab4-4a1e-9f49-b6bd2815fec4-0', usage_metadata={'input_tokens': 910, 'output_tokens': 60, 'total_tokens': 970, 'input_token_details': {'audio': 0, 'cache_read': 0}, 'output_token_details': {'audio': 0, 'reasoning': 0}})]}}, 'thread_id': '1', 'step': 3, 'parents': {}}, created_at='2025-03-23T19:46:38.334275+00:00', parent_config={'configurable': {'thread_id': '1', 'checkpoint_ns': '', 'checkpoint_id': '1f0081f8-85fa-6f72-8002-90ab1ffdd7fc'}}, tasks=())"
      ]
     },
     "execution_count": 17,
     "metadata": {},
     "output_type": "execute_result"
    }
   ],
   "source": [
    "abot.graph.get_state(thread)"
   ]
  },
  {
   "cell_type": "code",
   "execution_count": 18,
   "metadata": {},
   "outputs": [
    {
     "data": {
      "text/plain": [
       "()"
      ]
     },
     "execution_count": 18,
     "metadata": {},
     "output_type": "execute_result"
    }
   ],
   "source": [
    "abot.graph.get_state(thread).next"
   ]
  },
  {
   "cell_type": "code",
   "execution_count": 19,
   "metadata": {},
   "outputs": [
    {
     "name": "stdout",
     "output_type": "stream",
     "text": [
      "{'messages': [HumanMessage(content='Whats the weather in LA?', additional_kwargs={}, response_metadata={}, id='05a62050-2bfc-434f-8ffa-439596512369'), AIMessage(content='', additional_kwargs={'tool_calls': [{'id': 'call_XVRtWV5Sq3VB1bRXzlBDYVmF', 'function': {'arguments': '{\"query\":\"current weather in Los Angeles\"}', 'name': 'tavily_search_results_json'}, 'type': 'function'}], 'refusal': None}, response_metadata={'token_usage': {'completion_tokens': 23, 'prompt_tokens': 152, 'total_tokens': 175, 'completion_tokens_details': {'accepted_prediction_tokens': 0, 'audio_tokens': 0, 'reasoning_tokens': 0, 'rejected_prediction_tokens': 0}, 'prompt_tokens_details': {'audio_tokens': 0, 'cached_tokens': 0}}, 'model_name': 'gpt-3.5-turbo-0125', 'system_fingerprint': None, 'id': 'chatcmpl-BELZqpMtnb0tExRrXYMPIwbeaVKdA', 'finish_reason': 'tool_calls', 'logprobs': None}, id='run-cec95f4c-95a4-4632-a6d5-f2ea2c2d145e-0', tool_calls=[{'name': 'tavily_search_results_json', 'args': {'query': 'current weather in Los Angeles'}, 'id': 'call_XVRtWV5Sq3VB1bRXzlBDYVmF', 'type': 'tool_call'}], usage_metadata={'input_tokens': 152, 'output_tokens': 23, 'total_tokens': 175, 'input_token_details': {'audio': 0, 'cache_read': 0}, 'output_token_details': {'audio': 0, 'reasoning': 0}})]}\n",
      "{'messages': [AIMessage(content='', additional_kwargs={'tool_calls': [{'id': 'call_XVRtWV5Sq3VB1bRXzlBDYVmF', 'function': {'arguments': '{\"query\":\"current weather in Los Angeles\"}', 'name': 'tavily_search_results_json'}, 'type': 'function'}], 'refusal': None}, response_metadata={'token_usage': {'completion_tokens': 23, 'prompt_tokens': 152, 'total_tokens': 175, 'completion_tokens_details': {'accepted_prediction_tokens': 0, 'audio_tokens': 0, 'reasoning_tokens': 0, 'rejected_prediction_tokens': 0}, 'prompt_tokens_details': {'audio_tokens': 0, 'cached_tokens': 0}}, 'model_name': 'gpt-3.5-turbo-0125', 'system_fingerprint': None, 'id': 'chatcmpl-BELZqpMtnb0tExRrXYMPIwbeaVKdA', 'finish_reason': 'tool_calls', 'logprobs': None}, id='run-cec95f4c-95a4-4632-a6d5-f2ea2c2d145e-0', tool_calls=[{'name': 'tavily_search_results_json', 'args': {'query': 'current weather in Los Angeles'}, 'id': 'call_XVRtWV5Sq3VB1bRXzlBDYVmF', 'type': 'tool_call'}], usage_metadata={'input_tokens': 152, 'output_tokens': 23, 'total_tokens': 175, 'input_token_details': {'audio': 0, 'cache_read': 0}, 'output_token_details': {'audio': 0, 'reasoning': 0}})]}\n",
      "()\n",
      "\n",
      " StateSnapshot(values={'messages': [HumanMessage(content='Whats the weather in LA?', additional_kwargs={}, response_metadata={}, id='05a62050-2bfc-434f-8ffa-439596512369'), AIMessage(content='', additional_kwargs={'tool_calls': [{'id': 'call_XVRtWV5Sq3VB1bRXzlBDYVmF', 'function': {'arguments': '{\"query\":\"current weather in Los Angeles\"}', 'name': 'tavily_search_results_json'}, 'type': 'function'}], 'refusal': None}, response_metadata={'token_usage': {'completion_tokens': 23, 'prompt_tokens': 152, 'total_tokens': 175, 'completion_tokens_details': {'accepted_prediction_tokens': 0, 'audio_tokens': 0, 'reasoning_tokens': 0, 'rejected_prediction_tokens': 0}, 'prompt_tokens_details': {'audio_tokens': 0, 'cached_tokens': 0}}, 'model_name': 'gpt-3.5-turbo-0125', 'system_fingerprint': None, 'id': 'chatcmpl-BELZqpMtnb0tExRrXYMPIwbeaVKdA', 'finish_reason': 'tool_calls', 'logprobs': None}, id='run-cec95f4c-95a4-4632-a6d5-f2ea2c2d145e-0', tool_calls=[{'name': 'tavily_search_results_json', 'args': {'query': 'current weather in Los Angeles'}, 'id': 'call_XVRtWV5Sq3VB1bRXzlBDYVmF', 'type': 'tool_call'}], usage_metadata={'input_tokens': 152, 'output_tokens': 23, 'total_tokens': 175, 'input_token_details': {'audio': 0, 'cache_read': 0}, 'output_token_details': {'audio': 0, 'reasoning': 0}})]}, next=('action',), config={'configurable': {'thread_id': '2', 'checkpoint_ns': '', 'checkpoint_id': '1f0081f9-eee9-6d7a-8001-e8ed86b52f64'}}, metadata={'source': 'loop', 'writes': {'llm': {'messages': [AIMessage(content='', additional_kwargs={'tool_calls': [{'id': 'call_XVRtWV5Sq3VB1bRXzlBDYVmF', 'function': {'arguments': '{\"query\":\"current weather in Los Angeles\"}', 'name': 'tavily_search_results_json'}, 'type': 'function'}], 'refusal': None}, response_metadata={'token_usage': {'completion_tokens': 23, 'prompt_tokens': 152, 'total_tokens': 175, 'completion_tokens_details': {'accepted_prediction_tokens': 0, 'audio_tokens': 0, 'reasoning_tokens': 0, 'rejected_prediction_tokens': 0}, 'prompt_tokens_details': {'audio_tokens': 0, 'cached_tokens': 0}}, 'model_name': 'gpt-3.5-turbo-0125', 'system_fingerprint': None, 'id': 'chatcmpl-BELZqpMtnb0tExRrXYMPIwbeaVKdA', 'finish_reason': 'tool_calls', 'logprobs': None}, id='run-cec95f4c-95a4-4632-a6d5-f2ea2c2d145e-0', tool_calls=[{'name': 'tavily_search_results_json', 'args': {'query': 'current weather in Los Angeles'}, 'id': 'call_XVRtWV5Sq3VB1bRXzlBDYVmF', 'type': 'tool_call'}], usage_metadata={'input_tokens': 152, 'output_tokens': 23, 'total_tokens': 175, 'input_token_details': {'audio': 0, 'cache_read': 0}, 'output_token_details': {'audio': 0, 'reasoning': 0}})]}}, 'thread_id': '2', 'step': 1, 'parents': {}}, created_at='2025-03-23T19:47:15.193161+00:00', parent_config={'configurable': {'thread_id': '2', 'checkpoint_ns': '', 'checkpoint_id': '1f0081f9-e817-6498-8000-2abf3e958f20'}}, tasks=(PregelTask(id='d32879be-e2c1-f008-787b-21d292bd40ea', name='action', path=('__pregel_pull', 'action'), error=None, interrupts=(), state=None, result=None),)) \n",
      "\n",
      "aborting\n"
     ]
    }
   ],
   "source": [
    "messages = [HumanMessage(\"Whats the weather in LA?\")]\n",
    "thread = {\"configurable\": {\"thread_id\": \"2\"}}\n",
    "for event in abot.graph.stream({\"messages\": messages}, thread):\n",
    "    for v in event.values():\n",
    "        print(v)\n",
    "while abot.graph.get_state(thread).next:\n",
    "    print(\"\\n\", abot.graph.get_state(thread),\"\\n\")\n",
    "    _input = input(\"proceed?\")\n",
    "    if _input != \"y\":\n",
    "        print(\"aborting\")\n",
    "        break\n",
    "    for event in abot.graph.stream(None, thread):\n",
    "        for v in event.values():\n",
    "            print(v)"
   ]
  },
  {
   "cell_type": "markdown",
   "metadata": {},
   "source": [
    "Modify State"
   ]
  },
  {
   "cell_type": "code",
   "execution_count": 20,
   "metadata": {},
   "outputs": [
    {
     "name": "stdout",
     "output_type": "stream",
     "text": [
      "{'messages': [HumanMessage(content='Whats the weather in LA?', additional_kwargs={}, response_metadata={}, id='e14eaebc-09f7-4103-948f-b6c152311032'), AIMessage(content='', additional_kwargs={'tool_calls': [{'id': 'call_z3Xe3w1xhtm2SOVyqY23jfch', 'function': {'arguments': '{\"query\":\"weather in Los Angeles\"}', 'name': 'tavily_search_results_json'}, 'type': 'function'}], 'refusal': None}, response_metadata={'token_usage': {'completion_tokens': 22, 'prompt_tokens': 152, 'total_tokens': 174, 'completion_tokens_details': {'accepted_prediction_tokens': 0, 'audio_tokens': 0, 'reasoning_tokens': 0, 'rejected_prediction_tokens': 0}, 'prompt_tokens_details': {'audio_tokens': 0, 'cached_tokens': 0}}, 'model_name': 'gpt-3.5-turbo-0125', 'system_fingerprint': None, 'id': 'chatcmpl-BELcNc8iigrAwgvr8XDYk5t3Ivcgb', 'finish_reason': 'tool_calls', 'logprobs': None}, id='run-997d4833-2cc1-4a50-9222-b65913dc7d44-0', tool_calls=[{'name': 'tavily_search_results_json', 'args': {'query': 'weather in Los Angeles'}, 'id': 'call_z3Xe3w1xhtm2SOVyqY23jfch', 'type': 'tool_call'}], usage_metadata={'input_tokens': 152, 'output_tokens': 22, 'total_tokens': 174, 'input_token_details': {'audio': 0, 'cache_read': 0}, 'output_token_details': {'audio': 0, 'reasoning': 0}})]}\n",
      "{'messages': [AIMessage(content='', additional_kwargs={'tool_calls': [{'id': 'call_z3Xe3w1xhtm2SOVyqY23jfch', 'function': {'arguments': '{\"query\":\"weather in Los Angeles\"}', 'name': 'tavily_search_results_json'}, 'type': 'function'}], 'refusal': None}, response_metadata={'token_usage': {'completion_tokens': 22, 'prompt_tokens': 152, 'total_tokens': 174, 'completion_tokens_details': {'accepted_prediction_tokens': 0, 'audio_tokens': 0, 'reasoning_tokens': 0, 'rejected_prediction_tokens': 0}, 'prompt_tokens_details': {'audio_tokens': 0, 'cached_tokens': 0}}, 'model_name': 'gpt-3.5-turbo-0125', 'system_fingerprint': None, 'id': 'chatcmpl-BELcNc8iigrAwgvr8XDYk5t3Ivcgb', 'finish_reason': 'tool_calls', 'logprobs': None}, id='run-997d4833-2cc1-4a50-9222-b65913dc7d44-0', tool_calls=[{'name': 'tavily_search_results_json', 'args': {'query': 'weather in Los Angeles'}, 'id': 'call_z3Xe3w1xhtm2SOVyqY23jfch', 'type': 'tool_call'}], usage_metadata={'input_tokens': 152, 'output_tokens': 22, 'total_tokens': 174, 'input_token_details': {'audio': 0, 'cache_read': 0}, 'output_token_details': {'audio': 0, 'reasoning': 0}})]}\n",
      "()\n"
     ]
    }
   ],
   "source": [
    "messages = [HumanMessage(\"Whats the weather in LA?\")]\n",
    "thread = {\"configurable\": {\"thread_id\": \"3\"}}\n",
    "for event in abot.graph.stream({\"messages\": messages}, thread):\n",
    "    for v in event.values():\n",
    "        print(v)"
   ]
  },
  {
   "cell_type": "code",
   "execution_count": 21,
   "metadata": {},
   "outputs": [
    {
     "data": {
      "text/plain": [
       "StateSnapshot(values={'messages': [HumanMessage(content='Whats the weather in LA?', additional_kwargs={}, response_metadata={}, id='e14eaebc-09f7-4103-948f-b6c152311032'), AIMessage(content='', additional_kwargs={'tool_calls': [{'id': 'call_z3Xe3w1xhtm2SOVyqY23jfch', 'function': {'arguments': '{\"query\":\"weather in Los Angeles\"}', 'name': 'tavily_search_results_json'}, 'type': 'function'}], 'refusal': None}, response_metadata={'token_usage': {'completion_tokens': 22, 'prompt_tokens': 152, 'total_tokens': 174, 'completion_tokens_details': {'accepted_prediction_tokens': 0, 'audio_tokens': 0, 'reasoning_tokens': 0, 'rejected_prediction_tokens': 0}, 'prompt_tokens_details': {'audio_tokens': 0, 'cached_tokens': 0}}, 'model_name': 'gpt-3.5-turbo-0125', 'system_fingerprint': None, 'id': 'chatcmpl-BELcNc8iigrAwgvr8XDYk5t3Ivcgb', 'finish_reason': 'tool_calls', 'logprobs': None}, id='run-997d4833-2cc1-4a50-9222-b65913dc7d44-0', tool_calls=[{'name': 'tavily_search_results_json', 'args': {'query': 'weather in Los Angeles'}, 'id': 'call_z3Xe3w1xhtm2SOVyqY23jfch', 'type': 'tool_call'}], usage_metadata={'input_tokens': 152, 'output_tokens': 22, 'total_tokens': 174, 'input_token_details': {'audio': 0, 'cache_read': 0}, 'output_token_details': {'audio': 0, 'reasoning': 0}})]}, next=('action',), config={'configurable': {'thread_id': '3', 'checkpoint_ns': '', 'checkpoint_id': '1f0081ff-d8f4-6a46-8001-96f9b7c3e609'}}, metadata={'source': 'loop', 'writes': {'llm': {'messages': [AIMessage(content='', additional_kwargs={'tool_calls': [{'id': 'call_z3Xe3w1xhtm2SOVyqY23jfch', 'function': {'arguments': '{\"query\":\"weather in Los Angeles\"}', 'name': 'tavily_search_results_json'}, 'type': 'function'}], 'refusal': None}, response_metadata={'token_usage': {'completion_tokens': 22, 'prompt_tokens': 152, 'total_tokens': 174, 'completion_tokens_details': {'accepted_prediction_tokens': 0, 'audio_tokens': 0, 'reasoning_tokens': 0, 'rejected_prediction_tokens': 0}, 'prompt_tokens_details': {'audio_tokens': 0, 'cached_tokens': 0}}, 'model_name': 'gpt-3.5-turbo-0125', 'system_fingerprint': None, 'id': 'chatcmpl-BELcNc8iigrAwgvr8XDYk5t3Ivcgb', 'finish_reason': 'tool_calls', 'logprobs': None}, id='run-997d4833-2cc1-4a50-9222-b65913dc7d44-0', tool_calls=[{'name': 'tavily_search_results_json', 'args': {'query': 'weather in Los Angeles'}, 'id': 'call_z3Xe3w1xhtm2SOVyqY23jfch', 'type': 'tool_call'}], usage_metadata={'input_tokens': 152, 'output_tokens': 22, 'total_tokens': 174, 'input_token_details': {'audio': 0, 'cache_read': 0}, 'output_token_details': {'audio': 0, 'reasoning': 0}})]}}, 'thread_id': '3', 'step': 1, 'parents': {}}, created_at='2025-03-23T19:49:53.951993+00:00', parent_config={'configurable': {'thread_id': '3', 'checkpoint_ns': '', 'checkpoint_id': '1f0081ff-bdbb-6798-8000-ab2bec063d35'}}, tasks=(PregelTask(id='6e8a63a2-c8fa-0e6f-88ea-118061d755c4', name='action', path=('__pregel_pull', 'action'), error=None, interrupts=(), state=None, result=None),))"
      ]
     },
     "execution_count": 21,
     "metadata": {},
     "output_type": "execute_result"
    }
   ],
   "source": [
    "abot.graph.get_state(thread)"
   ]
  },
  {
   "cell_type": "code",
   "execution_count": 23,
   "metadata": {},
   "outputs": [
    {
     "data": {
      "text/plain": [
       "AIMessage(content='', additional_kwargs={'tool_calls': [{'id': 'call_z3Xe3w1xhtm2SOVyqY23jfch', 'function': {'arguments': '{\"query\":\"weather in Los Angeles\"}', 'name': 'tavily_search_results_json'}, 'type': 'function'}], 'refusal': None}, response_metadata={'token_usage': {'completion_tokens': 22, 'prompt_tokens': 152, 'total_tokens': 174, 'completion_tokens_details': {'accepted_prediction_tokens': 0, 'audio_tokens': 0, 'reasoning_tokens': 0, 'rejected_prediction_tokens': 0}, 'prompt_tokens_details': {'audio_tokens': 0, 'cached_tokens': 0}}, 'model_name': 'gpt-3.5-turbo-0125', 'system_fingerprint': None, 'id': 'chatcmpl-BELcNc8iigrAwgvr8XDYk5t3Ivcgb', 'finish_reason': 'tool_calls', 'logprobs': None}, id='run-997d4833-2cc1-4a50-9222-b65913dc7d44-0', tool_calls=[{'name': 'tavily_search_results_json', 'args': {'query': 'weather in Los Angeles'}, 'id': 'call_z3Xe3w1xhtm2SOVyqY23jfch', 'type': 'tool_call'}], usage_metadata={'input_tokens': 152, 'output_tokens': 22, 'total_tokens': 174, 'input_token_details': {'audio': 0, 'cache_read': 0}, 'output_token_details': {'audio': 0, 'reasoning': 0}})"
      ]
     },
     "execution_count": 23,
     "metadata": {},
     "output_type": "execute_result"
    }
   ],
   "source": [
    "current_values = abot.graph.get_state(thread)\n",
    "current_values.values['messages'][-1]"
   ]
  },
  {
   "cell_type": "code",
   "execution_count": 24,
   "metadata": {},
   "outputs": [
    {
     "data": {
      "text/plain": [
       "[{'name': 'tavily_search_results_json',\n",
       "  'args': {'query': 'weather in Los Angeles'},\n",
       "  'id': 'call_z3Xe3w1xhtm2SOVyqY23jfch',\n",
       "  'type': 'tool_call'}]"
      ]
     },
     "execution_count": 24,
     "metadata": {},
     "output_type": "execute_result"
    }
   ],
   "source": [
    "current_values.values['messages'][-1].tool_calls"
   ]
  },
  {
   "cell_type": "code",
   "execution_count": 25,
   "metadata": {},
   "outputs": [],
   "source": [
    "_id = current_values.values['messages'][-1].tool_calls[0]['id']\n",
    "current_values.values['messages'][-1].tool_calls = [\n",
    "    {'name': 'tavily_search_results_json',\n",
    "  'args': {'query': 'current weather in Louisiana'},\n",
    "  'id': _id}\n",
    "]"
   ]
  },
  {
   "cell_type": "code",
   "execution_count": 26,
   "metadata": {},
   "outputs": [
    {
     "name": "stdout",
     "output_type": "stream",
     "text": [
      "{'messages': [HumanMessage(content='Whats the weather in LA?', additional_kwargs={}, response_metadata={}, id='e14eaebc-09f7-4103-948f-b6c152311032'), AIMessage(content='', additional_kwargs={'tool_calls': [{'id': 'call_z3Xe3w1xhtm2SOVyqY23jfch', 'function': {'arguments': '{\"query\":\"weather in Los Angeles\"}', 'name': 'tavily_search_results_json'}, 'type': 'function'}], 'refusal': None}, response_metadata={'token_usage': {'completion_tokens': 22, 'prompt_tokens': 152, 'total_tokens': 174, 'completion_tokens_details': {'accepted_prediction_tokens': 0, 'audio_tokens': 0, 'reasoning_tokens': 0, 'rejected_prediction_tokens': 0}, 'prompt_tokens_details': {'audio_tokens': 0, 'cached_tokens': 0}}, 'model_name': 'gpt-3.5-turbo-0125', 'system_fingerprint': None, 'id': 'chatcmpl-BELcNc8iigrAwgvr8XDYk5t3Ivcgb', 'finish_reason': 'tool_calls', 'logprobs': None}, id='run-997d4833-2cc1-4a50-9222-b65913dc7d44-0', tool_calls=[{'name': 'tavily_search_results_json', 'args': {'query': 'current weather in Louisiana'}, 'id': 'call_z3Xe3w1xhtm2SOVyqY23jfch'}], usage_metadata={'input_tokens': 152, 'output_tokens': 22, 'total_tokens': 174, 'input_token_details': {'audio': 0, 'cache_read': 0}, 'output_token_details': {'audio': 0, 'reasoning': 0}})]}\n"
     ]
    },
    {
     "data": {
      "text/plain": [
       "{'configurable': {'thread_id': '3',\n",
       "  'checkpoint_ns': '',\n",
       "  'checkpoint_id': '1f008202-fd43-6818-8002-08b40684248a'}}"
      ]
     },
     "execution_count": 26,
     "metadata": {},
     "output_type": "execute_result"
    }
   ],
   "source": [
    "abot.graph.update_state(thread, current_values.values)"
   ]
  },
  {
   "cell_type": "code",
   "execution_count": 27,
   "metadata": {},
   "outputs": [
    {
     "data": {
      "text/plain": [
       "StateSnapshot(values={'messages': [HumanMessage(content='Whats the weather in LA?', additional_kwargs={}, response_metadata={}, id='e14eaebc-09f7-4103-948f-b6c152311032'), AIMessage(content='', additional_kwargs={'tool_calls': [{'id': 'call_z3Xe3w1xhtm2SOVyqY23jfch', 'function': {'arguments': '{\"query\":\"weather in Los Angeles\"}', 'name': 'tavily_search_results_json'}, 'type': 'function'}], 'refusal': None}, response_metadata={'token_usage': {'completion_tokens': 22, 'prompt_tokens': 152, 'total_tokens': 174, 'completion_tokens_details': {'accepted_prediction_tokens': 0, 'audio_tokens': 0, 'reasoning_tokens': 0, 'rejected_prediction_tokens': 0}, 'prompt_tokens_details': {'audio_tokens': 0, 'cached_tokens': 0}}, 'model_name': 'gpt-3.5-turbo-0125', 'system_fingerprint': None, 'id': 'chatcmpl-BELcNc8iigrAwgvr8XDYk5t3Ivcgb', 'finish_reason': 'tool_calls', 'logprobs': None}, id='run-997d4833-2cc1-4a50-9222-b65913dc7d44-0', tool_calls=[{'name': 'tavily_search_results_json', 'args': {'query': 'current weather in Louisiana'}, 'id': 'call_z3Xe3w1xhtm2SOVyqY23jfch', 'type': 'tool_call'}], usage_metadata={'input_tokens': 152, 'output_tokens': 22, 'total_tokens': 174, 'input_token_details': {'audio': 0, 'cache_read': 0}, 'output_token_details': {'audio': 0, 'reasoning': 0}})]}, next=('action',), config={'configurable': {'thread_id': '3', 'checkpoint_ns': '', 'checkpoint_id': '1f008202-fd43-6818-8002-08b40684248a'}}, metadata={'source': 'update', 'writes': {'llm': {'messages': [HumanMessage(content='Whats the weather in LA?', additional_kwargs={}, response_metadata={}, id='e14eaebc-09f7-4103-948f-b6c152311032'), AIMessage(content='', additional_kwargs={'tool_calls': [{'id': 'call_z3Xe3w1xhtm2SOVyqY23jfch', 'function': {'arguments': '{\"query\":\"weather in Los Angeles\"}', 'name': 'tavily_search_results_json'}, 'type': 'function'}], 'refusal': None}, response_metadata={'token_usage': {'completion_tokens': 22, 'prompt_tokens': 152, 'total_tokens': 174, 'completion_tokens_details': {'accepted_prediction_tokens': 0, 'audio_tokens': 0, 'reasoning_tokens': 0, 'rejected_prediction_tokens': 0}, 'prompt_tokens_details': {'audio_tokens': 0, 'cached_tokens': 0}}, 'model_name': 'gpt-3.5-turbo-0125', 'system_fingerprint': None, 'id': 'chatcmpl-BELcNc8iigrAwgvr8XDYk5t3Ivcgb', 'finish_reason': 'tool_calls', 'logprobs': None}, id='run-997d4833-2cc1-4a50-9222-b65913dc7d44-0', tool_calls=[{'name': 'tavily_search_results_json', 'args': {'query': 'current weather in Louisiana'}, 'id': 'call_z3Xe3w1xhtm2SOVyqY23jfch', 'type': 'tool_call'}], usage_metadata={'input_tokens': 152, 'output_tokens': 22, 'total_tokens': 174, 'input_token_details': {'audio': 0, 'cache_read': 0}, 'output_token_details': {'audio': 0, 'reasoning': 0}})]}}, 'thread_id': '3', 'step': 2, 'parents': {}}, created_at='2025-03-23T19:51:18.289805+00:00', parent_config={'configurable': {'thread_id': '3', 'checkpoint_ns': '', 'checkpoint_id': '1f0081ff-d8f4-6a46-8001-96f9b7c3e609'}}, tasks=(PregelTask(id='8c1a3fdd-2d50-f355-20ec-52292503e456', name='action', path=('__pregel_pull', 'action'), error=None, interrupts=(), state=None, result=None),))"
      ]
     },
     "execution_count": 27,
     "metadata": {},
     "output_type": "execute_result"
    }
   ],
   "source": [
    "abot.graph.get_state(thread)"
   ]
  },
  {
   "cell_type": "code",
   "execution_count": 28,
   "metadata": {},
   "outputs": [
    {
     "name": "stdout",
     "output_type": "stream",
     "text": [
      "Calling: {'name': 'tavily_search_results_json', 'args': {'query': 'current weather in Louisiana'}, 'id': 'call_z3Xe3w1xhtm2SOVyqY23jfch', 'type': 'tool_call'}\n",
      "Back to the model!\n",
      "{'messages': [ToolMessage(content='[{\\'title\\': \\'Weather in Louisiana\\', \\'url\\': \\'https://www.weatherapi.com/\\', \\'content\\': \"{\\'location\\': {\\'name\\': \\'Louisiana\\', \\'region\\': \\'Missouri\\', \\'country\\': \\'USA United States of America\\', \\'lat\\': 39.4411, \\'lon\\': -91.0551, \\'tz_id\\': \\'America/Chicago\\', \\'localtime_epoch\\': 1742759320, \\'localtime\\': \\'2025-03-23 14:48\\'}, \\'current\\': {\\'last_updated_epoch\\': 1742759100, \\'last_updated\\': \\'2025-03-23 14:45\\', \\'temp_c\\': 12.3, \\'temp_f\\': 54.1, \\'is_day\\': 1, \\'condition\\': {\\'text\\': \\'Overcast\\', \\'icon\\': \\'//cdn.weatherapi.com/weather/64x64/day/122.png\\', \\'code\\': 1009}, \\'wind_mph\\': 13.6, \\'wind_kph\\': 22.0, \\'wind_degree\\': 244, \\'wind_dir\\': \\'WSW\\', \\'pressure_mb\\': 1007.0, \\'pressure_in\\': 29.73, \\'precip_mm\\': 0.0, \\'precip_in\\': 0.0, \\'humidity\\': 82, \\'cloud\\': 100, \\'feelslike_c\\': 10.1, \\'feelslike_f\\': 50.2, \\'windchill_c\\': 11.0, \\'windchill_f\\': 51.8, \\'heatindex_c\\': 12.4, \\'heatindex_f\\': 54.4, \\'dewpoint_c\\': 7.3, \\'dewpoint_f\\': 45.2, \\'vis_km\\': 16.0, \\'vis_miles\\': 9.0, \\'uv\\': 4.7, \\'gust_mph\\': 19.9, \\'gust_kph\\': 32.1}}\", \\'score\\': 0.9107603}, {\\'title\\': \\'Louisiana weather in March 2025 - Weather25.com\\', \\'url\\': \\'https://www.weather25.com/north-america/usa/louisiana?page=month&month=March\\', \\'content\\': \\'Location was added to My Locations\\\\nLocation was removed from My Locations\\\\nFebruary\\\\nApril\\\\nLouisiana weather in March 2025\\\\nThe temperatures in Louisiana in March are comfortable with low of 15°C and and high up to 22°C.\\\\nYou can expect about 3 to 8 days of rain in Louisiana during the month of March. It’s a good idea to bring along your umbrella so that you don’t get caught in poor weather.\\\\nOur weather forecast can give you a great sense of what weather to expect in Louisiana in March 2025. [...] If you’re planning to visit Louisiana in the near future, we highly recommend that you review the 14 day weather forecast for Louisiana before you arrive.\\\\nTemperatures\\\\n22° / 15°\\\\nRainy Days\\\\n4\\\\nSnowy Days\\\\n0\\\\nDry Days\\\\n27\\\\nRainfall\\\\n65\\\\nmm\\\\nSun Hours\\\\n10.1\\\\nHrs\\\\nHistoric average weather for March [...] On average, there are 4 rainy days in Louisiana during March.\\\\nWeather wise, is March a good time to visit Louisiana?\\\\nThe weather in Louisiana in March is good.\\\\nCan it snow in Louisiana in March?\\\\nOn average, there are 0 snowy days in Louisiana in March.\\\\nCities in Louisiana\\\\nFor a more accurate weather forecast please select a city\\\\nAlexandria Baton Rouge Bossier City Hammond Lake Charles Metairie New Iberia New Orleans Shreveport Slidell\\\\nSee more locations\\\\nMore about the weather in Louisiana\\', \\'score\\': 0.7753790807017543}]', name='tavily_search_results_json', id='7cdef52e-fe3e-4a65-89d5-3581380d33b9', tool_call_id='call_z3Xe3w1xhtm2SOVyqY23jfch')]}\n",
      "{'messages': [HumanMessage(content='Whats the weather in LA?', additional_kwargs={}, response_metadata={}, id='e14eaebc-09f7-4103-948f-b6c152311032'), AIMessage(content='', additional_kwargs={'tool_calls': [{'id': 'call_z3Xe3w1xhtm2SOVyqY23jfch', 'function': {'arguments': '{\"query\":\"weather in Los Angeles\"}', 'name': 'tavily_search_results_json'}, 'type': 'function'}], 'refusal': None}, response_metadata={'token_usage': {'completion_tokens': 22, 'prompt_tokens': 152, 'total_tokens': 174, 'completion_tokens_details': {'accepted_prediction_tokens': 0, 'audio_tokens': 0, 'reasoning_tokens': 0, 'rejected_prediction_tokens': 0}, 'prompt_tokens_details': {'audio_tokens': 0, 'cached_tokens': 0}}, 'model_name': 'gpt-3.5-turbo-0125', 'system_fingerprint': None, 'id': 'chatcmpl-BELcNc8iigrAwgvr8XDYk5t3Ivcgb', 'finish_reason': 'tool_calls', 'logprobs': None}, id='run-997d4833-2cc1-4a50-9222-b65913dc7d44-0', tool_calls=[{'name': 'tavily_search_results_json', 'args': {'query': 'current weather in Louisiana'}, 'id': 'call_z3Xe3w1xhtm2SOVyqY23jfch', 'type': 'tool_call'}], usage_metadata={'input_tokens': 152, 'output_tokens': 22, 'total_tokens': 174, 'input_token_details': {'audio': 0, 'cache_read': 0}, 'output_token_details': {'audio': 0, 'reasoning': 0}}), ToolMessage(content='[{\\'title\\': \\'Weather in Louisiana\\', \\'url\\': \\'https://www.weatherapi.com/\\', \\'content\\': \"{\\'location\\': {\\'name\\': \\'Louisiana\\', \\'region\\': \\'Missouri\\', \\'country\\': \\'USA United States of America\\', \\'lat\\': 39.4411, \\'lon\\': -91.0551, \\'tz_id\\': \\'America/Chicago\\', \\'localtime_epoch\\': 1742759320, \\'localtime\\': \\'2025-03-23 14:48\\'}, \\'current\\': {\\'last_updated_epoch\\': 1742759100, \\'last_updated\\': \\'2025-03-23 14:45\\', \\'temp_c\\': 12.3, \\'temp_f\\': 54.1, \\'is_day\\': 1, \\'condition\\': {\\'text\\': \\'Overcast\\', \\'icon\\': \\'//cdn.weatherapi.com/weather/64x64/day/122.png\\', \\'code\\': 1009}, \\'wind_mph\\': 13.6, \\'wind_kph\\': 22.0, \\'wind_degree\\': 244, \\'wind_dir\\': \\'WSW\\', \\'pressure_mb\\': 1007.0, \\'pressure_in\\': 29.73, \\'precip_mm\\': 0.0, \\'precip_in\\': 0.0, \\'humidity\\': 82, \\'cloud\\': 100, \\'feelslike_c\\': 10.1, \\'feelslike_f\\': 50.2, \\'windchill_c\\': 11.0, \\'windchill_f\\': 51.8, \\'heatindex_c\\': 12.4, \\'heatindex_f\\': 54.4, \\'dewpoint_c\\': 7.3, \\'dewpoint_f\\': 45.2, \\'vis_km\\': 16.0, \\'vis_miles\\': 9.0, \\'uv\\': 4.7, \\'gust_mph\\': 19.9, \\'gust_kph\\': 32.1}}\", \\'score\\': 0.9107603}, {\\'title\\': \\'Louisiana weather in March 2025 - Weather25.com\\', \\'url\\': \\'https://www.weather25.com/north-america/usa/louisiana?page=month&month=March\\', \\'content\\': \\'Location was added to My Locations\\\\nLocation was removed from My Locations\\\\nFebruary\\\\nApril\\\\nLouisiana weather in March 2025\\\\nThe temperatures in Louisiana in March are comfortable with low of 15°C and and high up to 22°C.\\\\nYou can expect about 3 to 8 days of rain in Louisiana during the month of March. It’s a good idea to bring along your umbrella so that you don’t get caught in poor weather.\\\\nOur weather forecast can give you a great sense of what weather to expect in Louisiana in March 2025. [...] If you’re planning to visit Louisiana in the near future, we highly recommend that you review the 14 day weather forecast for Louisiana before you arrive.\\\\nTemperatures\\\\n22° / 15°\\\\nRainy Days\\\\n4\\\\nSnowy Days\\\\n0\\\\nDry Days\\\\n27\\\\nRainfall\\\\n65\\\\nmm\\\\nSun Hours\\\\n10.1\\\\nHrs\\\\nHistoric average weather for March [...] On average, there are 4 rainy days in Louisiana during March.\\\\nWeather wise, is March a good time to visit Louisiana?\\\\nThe weather in Louisiana in March is good.\\\\nCan it snow in Louisiana in March?\\\\nOn average, there are 0 snowy days in Louisiana in March.\\\\nCities in Louisiana\\\\nFor a more accurate weather forecast please select a city\\\\nAlexandria Baton Rouge Bossier City Hammond Lake Charles Metairie New Iberia New Orleans Shreveport Slidell\\\\nSee more locations\\\\nMore about the weather in Louisiana\\', \\'score\\': 0.7753790807017543}]', name='tavily_search_results_json', id='7cdef52e-fe3e-4a65-89d5-3581380d33b9', tool_call_id='call_z3Xe3w1xhtm2SOVyqY23jfch'), AIMessage(content='I found information about the weather in Louisiana, but I believe you are referring to Los Angeles, California. Let me search for the current weather in Los Angeles.', additional_kwargs={'tool_calls': [{'id': 'call_CzNlYQ4OJ983ZdHqXZcZqP5Y', 'function': {'arguments': '{\"query\":\"current weather in Los Angeles\"}', 'name': 'tavily_search_results_json'}, 'type': 'function'}], 'refusal': None}, response_metadata={'token_usage': {'completion_tokens': 57, 'prompt_tokens': 987, 'total_tokens': 1044, 'completion_tokens_details': {'accepted_prediction_tokens': 0, 'audio_tokens': 0, 'reasoning_tokens': 0, 'rejected_prediction_tokens': 0}, 'prompt_tokens_details': {'audio_tokens': 0, 'cached_tokens': 0}}, 'model_name': 'gpt-3.5-turbo-0125', 'system_fingerprint': None, 'id': 'chatcmpl-BELeAPwqOq8jrOwLoaoI3B7owgflw', 'finish_reason': 'tool_calls', 'logprobs': None}, id='run-67bca289-5d35-42cb-9292-519859fa6869-0', tool_calls=[{'name': 'tavily_search_results_json', 'args': {'query': 'current weather in Los Angeles'}, 'id': 'call_CzNlYQ4OJ983ZdHqXZcZqP5Y', 'type': 'tool_call'}], usage_metadata={'input_tokens': 987, 'output_tokens': 57, 'total_tokens': 1044, 'input_token_details': {'audio': 0, 'cache_read': 0}, 'output_token_details': {'audio': 0, 'reasoning': 0}})]}\n",
      "{'messages': [AIMessage(content='I found information about the weather in Louisiana, but I believe you are referring to Los Angeles, California. Let me search for the current weather in Los Angeles.', additional_kwargs={'tool_calls': [{'id': 'call_CzNlYQ4OJ983ZdHqXZcZqP5Y', 'function': {'arguments': '{\"query\":\"current weather in Los Angeles\"}', 'name': 'tavily_search_results_json'}, 'type': 'function'}], 'refusal': None}, response_metadata={'token_usage': {'completion_tokens': 57, 'prompt_tokens': 987, 'total_tokens': 1044, 'completion_tokens_details': {'accepted_prediction_tokens': 0, 'audio_tokens': 0, 'reasoning_tokens': 0, 'rejected_prediction_tokens': 0}, 'prompt_tokens_details': {'audio_tokens': 0, 'cached_tokens': 0}}, 'model_name': 'gpt-3.5-turbo-0125', 'system_fingerprint': None, 'id': 'chatcmpl-BELeAPwqOq8jrOwLoaoI3B7owgflw', 'finish_reason': 'tool_calls', 'logprobs': None}, id='run-67bca289-5d35-42cb-9292-519859fa6869-0', tool_calls=[{'name': 'tavily_search_results_json', 'args': {'query': 'current weather in Los Angeles'}, 'id': 'call_CzNlYQ4OJ983ZdHqXZcZqP5Y', 'type': 'tool_call'}], usage_metadata={'input_tokens': 987, 'output_tokens': 57, 'total_tokens': 1044, 'input_token_details': {'audio': 0, 'cache_read': 0}, 'output_token_details': {'audio': 0, 'reasoning': 0}})]}\n",
      "()\n"
     ]
    }
   ],
   "source": [
    "for event in abot.graph.stream(None, thread):\n",
    "    for v in event.values():\n",
    "        print(v)"
   ]
  },
  {
   "cell_type": "markdown",
   "metadata": {},
   "source": [
    "This walkthrough demonstrates the power of Human-in-the-Loop in LangGraph, allowing human reviewers to:\n",
    "1. Interrupt execution at specific points\n",
    "2. Review what the agent is about to do\n",
    "3. Modify the agent's actions or queries if needed\n",
    "4. Decide whether to proceed or abort\n",
    "5. Continue execution with either original or modified state"
   ]
  }
 ],
 "metadata": {
  "kernelspec": {
   "display_name": ".venv",
   "language": "python",
   "name": "python3"
  },
  "language_info": {
   "codemirror_mode": {
    "name": "ipython",
    "version": 3
   },
   "file_extension": ".py",
   "mimetype": "text/x-python",
   "name": "python",
   "nbconvert_exporter": "python",
   "pygments_lexer": "ipython3",
   "version": "3.13.2"
  }
 },
 "nbformat": 4,
 "nbformat_minor": 2
}
