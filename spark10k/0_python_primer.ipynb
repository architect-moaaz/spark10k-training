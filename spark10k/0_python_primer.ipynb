{
 "cells": [
  {
   "cell_type": "markdown",
   "metadata": {},
   "source": [
    "# Python Primer: From Zero to Flask\n",
    "\n",
    "This notebook takes you from Python basics to building a simple Flask web application. We'll cover fundamental Python concepts and gradually build up to creating and running a minimal Flask app."
   ]
  },
  {
   "cell_type": "markdown",
   "metadata": {},
   "source": [
    "## Part 1: Python Basics"
   ]
  },
  {
   "cell_type": "markdown",
   "metadata": {},
   "source": [
    "### 1.1 Variables and Data Types\n",
    "\n",
    "Python variables don't need to be declared with a type. Their type is determined by the value assigned."
   ]
  },
  {
   "cell_type": "code",
   "execution_count": 1,
   "metadata": {},
   "outputs": [
    {
     "name": "stdout",
     "output_type": "stream",
     "text": [
      "String: Hello, World!, Type: <class 'str'>\n",
      "Integer: 42, Type: <class 'int'>\n",
      "Float: 3.14, Type: <class 'float'>\n",
      "Boolean: True, Type: <class 'bool'>\n"
     ]
    }
   ],
   "source": [
    "# Basic data types\n",
    "my_string = \"Hello, World!\"  # String\n",
    "my_integer = 42              # Integer\n",
    "my_float = 3.14              # Float\n",
    "my_boolean = True            # Boolean\n",
    "\n",
    "# Print variables and their types\n",
    "print(f\"String: {my_string}, Type: {type(my_string)}\")\n",
    "print(f\"Integer: {my_integer}, Type: {type(my_integer)}\")\n",
    "print(f\"Float: {my_float}, Type: {type(my_float)}\")\n",
    "print(f\"Boolean: {my_boolean}, Type: {type(my_boolean)}\")"
   ]
  },
  {
   "cell_type": "markdown",
   "metadata": {},
   "source": [
    "### 1.2 Collections: Lists, Tuples, and Dictionaries"
   ]
  },
  {
   "cell_type": "code",
   "execution_count": null,
   "metadata": {},
   "outputs": [],
   "source": [
    "# List - mutable, ordered collection\n",
    "fruits = [\"apple\", \"banana\", \"cherry\"]\n",
    "print(f\"Fruits list: {fruits}\")\n",
    "fruits.append(\"dragonfruit\")  # Add an item\n",
    "print(f\"Updated fruits list: {fruits}\")\n",
    "print(f\"First fruit: {fruits[0]}\")\n",
    "\n",
    "# Tuple - immutable, ordered collection\n",
    "coordinates = (10.5, 20.8)\n",
    "print(f\"Coordinates: {coordinates}\")\n",
    "print(f\"X-coordinate: {coordinates[0]}\")\n",
    "\n",
    "# Dictionary - key-value pairs\n",
    "person = {\n",
    "    \"name\": \"Alice\",\n",
    "    \"age\": 30,\n",
    "    \"city\": \"New York\"\n",
    "}\n",
    "print(f\"Person: {person}\")\n",
    "print(f\"Name: {person['name']}\")\n",
    "person[\"email\"] = \"alice@example.com\"  # Add a new key-value pair\n",
    "print(f\"Updated person: {person}\")"
   ]
  },
  {
   "cell_type": "markdown",
   "metadata": {},
   "source": [
    "### 1.3 Control Flow: Conditionals and Loops"
   ]
  },
  {
   "cell_type": "code",
   "execution_count": null,
   "metadata": {},
   "outputs": [],
   "source": [
    "# If-else conditional\n",
    "temperature = 25\n",
    "\n",
    "if temperature > 30:\n",
    "    print(\"It's hot outside!\")\n",
    "elif temperature > 20:\n",
    "    print(\"It's a nice day!\")\n",
    "else:\n",
    "    print(\"It's a bit cold!\")\n",
    "\n",
    "# For loop with a list\n",
    "print(\"\\nFruits:\")\n",
    "for fruit in fruits:\n",
    "    print(f\"- {fruit}\")\n",
    "\n",
    "# For loop with range\n",
    "print(\"\\nCounting:\")\n",
    "for i in range(1, 6):  # 1 to 5\n",
    "    print(i)\n",
    "\n",
    "# While loop\n",
    "print(\"\\nCountdown:\")\n",
    "count = 3\n",
    "while count > 0:\n",
    "    print(count)\n",
    "    count -= 1\n",
    "print(\"Go!\")"
   ]
  },
  {
   "cell_type": "markdown",
   "metadata": {},
   "source": [
    "### 1.4 Functions"
   ]
  },
  {
   "cell_type": "code",
   "execution_count": null,
   "metadata": {},
   "outputs": [],
   "source": [
    "# Basic function\n",
    "def greet(name):\n",
    "    return f\"Hello, {name}!\"\n",
    "\n",
    "print(greet(\"World\"))\n",
    "\n",
    "# Function with default parameter\n",
    "def calculate_area(length, width=1):\n",
    "    return length * width\n",
    "\n",
    "print(f\"Rectangle area: {calculate_area(5, 3)}\")\n",
    "print(f\"Line length: {calculate_area(10)}\")\n",
    "\n",
    "# Function with multiple return values\n",
    "def get_min_max(numbers):\n",
    "    return min(numbers), max(numbers)\n",
    "\n",
    "min_val, max_val = get_min_max([3, 1, 5, 2, 4])\n",
    "print(f\"Min: {min_val}, Max: {max_val}\")"
   ]
  },
  {
   "cell_type": "markdown",
   "metadata": {},
   "source": [
    "### 1.5 List Comprehensions"
   ]
  },
  {
   "cell_type": "code",
   "execution_count": 2,
   "metadata": {},
   "outputs": [
    {
     "name": "stdout",
     "output_type": "stream",
     "text": [
      "Squares: [1, 4, 9, 16, 25]\n",
      "Even squares: [4, 16, 36, 64, 100]\n"
     ]
    },
    {
     "ename": "NameError",
     "evalue": "name 'fruits' is not defined",
     "output_type": "error",
     "traceback": [
      "\u001b[31m---------------------------------------------------------------------------\u001b[39m",
      "\u001b[31mNameError\u001b[39m                                 Traceback (most recent call last)",
      "\u001b[36mCell\u001b[39m\u001b[36m \u001b[39m\u001b[32mIn[2]\u001b[39m\u001b[32m, line 10\u001b[39m\n\u001b[32m      7\u001b[39m \u001b[38;5;28mprint\u001b[39m(\u001b[33mf\u001b[39m\u001b[33m\"\u001b[39m\u001b[33mEven squares: \u001b[39m\u001b[38;5;132;01m{\u001b[39;00meven_squares\u001b[38;5;132;01m}\u001b[39;00m\u001b[33m\"\u001b[39m)\n\u001b[32m      9\u001b[39m \u001b[38;5;66;03m# Dictionary comprehension\u001b[39;00m\n\u001b[32m---> \u001b[39m\u001b[32m10\u001b[39m fruit_lengths = {fruit: \u001b[38;5;28mlen\u001b[39m(fruit) \u001b[38;5;28;01mfor\u001b[39;00m fruit \u001b[38;5;129;01min\u001b[39;00m \u001b[43mfruits\u001b[49m}\n\u001b[32m     11\u001b[39m \u001b[38;5;28mprint\u001b[39m(\u001b[33mf\u001b[39m\u001b[33m\"\u001b[39m\u001b[33mFruit name lengths: \u001b[39m\u001b[38;5;132;01m{\u001b[39;00mfruit_lengths\u001b[38;5;132;01m}\u001b[39;00m\u001b[33m\"\u001b[39m)\n",
      "\u001b[31mNameError\u001b[39m: name 'fruits' is not defined"
     ]
    }
   ],
   "source": [
    "# Creating a list of squares\n",
    "squares = [x ** 2 for x in range(1, 6)]\n",
    "print(f\"Squares: {squares}\")\n",
    "\n",
    "# Filtering with a condition\n",
    "even_squares = [x ** 2 for x in range(1, 11) if x % 2 == 0]\n",
    "print(f\"Even squares: {even_squares}\")\n",
    "\n",
    "# Dictionary comprehension\n",
    "fruit_lengths = {fruit: len(fruit) for fruit in fruits}\n",
    "print(f\"Fruit name lengths: {fruit_lengths}\")"
   ]
  },
  {
   "cell_type": "markdown",
   "metadata": {},
   "source": [
    "## Part 2: Object-Oriented Programming"
   ]
  },
  {
   "cell_type": "markdown",
   "metadata": {},
   "source": [
    "### 2.1 Creating Classes and Objects"
   ]
  },
  {
   "cell_type": "code",
   "execution_count": 4,
   "metadata": {},
   "outputs": [
    {
     "name": "stdout",
     "output_type": "stream",
     "text": [
      "Hello, my name is Alice and I am 30 years old.\n",
      "Happy Birthday! Alice is now 31 years old.\n"
     ]
    }
   ],
   "source": [
    "class Person:\n",
    "    def __init__(self, name, age):\n",
    "        self.name = name\n",
    "        self.age = age\n",
    "    \n",
    "    def greet(self):\n",
    "        return f\"Hello, my name is {self.name} and I am {self.age} years old.\"\n",
    "    \n",
    "    def have_birthday(self):\n",
    "        self.age += 1\n",
    "        return f\"Happy Birthday! {self.name} is now {self.age} years old.\"\n",
    "\n",
    "# Creating an object\n",
    "alice = Person(\"Alice\", 30)\n",
    "print(alice.greet())\n",
    "print(alice.have_birthday())"
   ]
  },
  {
   "cell_type": "markdown",
   "metadata": {},
   "source": [
    "### 2.2 Inheritance"
   ]
  },
  {
   "cell_type": "code",
   "execution_count": 5,
   "metadata": {},
   "outputs": [
    {
     "name": "stdout",
     "output_type": "stream",
     "text": [
      "Hello, my name is Bob and I am 20 years old.\n",
      "Bob has enrolled in Python 101.\n",
      "Bob has enrolled in Web Development.\n",
      "Bob's courses: Python 101, Web Development\n"
     ]
    }
   ],
   "source": [
    "class Student(Person):\n",
    "    def __init__(self, name, age, student_id):\n",
    "        super().__init__(name, age)  # Call the parent class constructor\n",
    "        self.student_id = student_id\n",
    "        self.courses = []\n",
    "    \n",
    "    def enroll(self, course):\n",
    "        self.courses.append(course)\n",
    "        return f\"{self.name} has enrolled in {course}.\"\n",
    "    \n",
    "    def get_courses(self):\n",
    "        if not self.courses:\n",
    "            return f\"{self.name} is not enrolled in any courses.\"\n",
    "        return f\"{self.name}'s courses: {', '.join(self.courses)}\"\n",
    "\n",
    "# Creating a Student object\n",
    "bob = Student(\"Bob\", 20, \"S12345\")\n",
    "print(bob.greet())  # Inherited from Person\n",
    "print(bob.enroll(\"Python 101\"))\n",
    "print(bob.enroll(\"Web Development\"))\n",
    "print(bob.get_courses())"
   ]
  },
  {
   "cell_type": "markdown",
   "metadata": {},
   "source": [
    "## Part 3: Modules and Packages"
   ]
  },
  {
   "cell_type": "markdown",
   "metadata": {},
   "source": [
    "### 3.1 Using Built-in Modules"
   ]
  },
  {
   "cell_type": "code",
   "execution_count": null,
   "metadata": {},
   "outputs": [],
   "source": [
    "# math module for mathematical functions\n",
    "import math\n",
    "\n",
    "print(f\"Square root of 16: {math.sqrt(16)}\")\n",
    "print(f\"Pi: {math.pi}\")\n",
    "print(f\"Sine of 30 degrees: {math.sin(math.radians(30))}\")\n",
    "\n",
    "# random module for random numbers\n",
    "import random\n",
    "\n",
    "print(f\"Random number between 1 and 10: {random.randint(1, 10)}\")\n",
    "print(f\"Random choice from fruits: {random.choice(fruits)}\")\n",
    "\n",
    "# datetime module for date and time operations\n",
    "from datetime import datetime, timedelta\n",
    "\n",
    "now = datetime.now()\n",
    "print(f\"Current date and time: {now}\")\n",
    "print(f\"Formatted date: {now.strftime('%Y-%m-%d')}\")\n",
    "print(f\"One week from now: {now + timedelta(days=7)}\")"
   ]
  },
  {
   "cell_type": "markdown",
   "metadata": {},
   "source": [
    "### 3.2 Creating and Using Custom Modules\n",
    "\n",
    "Normally, we would create a separate file for our module, but for demonstration purposes, let's simulate it by defining functions and then importing them from this cell."
   ]
  },
  {
   "cell_type": "code",
   "execution_count": null,
   "metadata": {},
   "outputs": [],
   "source": [
    "# In a real project, this would be in a file called utils.py\n",
    "def celsius_to_fahrenheit(celsius):\n",
    "    return (celsius * 9/5) + 32\n",
    "\n",
    "def fahrenheit_to_celsius(fahrenheit):\n",
    "    return (fahrenheit - 32) * 5/9\n",
    "\n",
    "def format_temperature(temp, unit=\"C\"):\n",
    "    if unit.upper() == \"C\":\n",
    "        return f\"{temp:.1f}°C\"\n",
    "    elif unit.upper() == \"F\":\n",
    "        return f\"{temp:.1f}°F\"\n",
    "    else:\n",
    "        return f\"{temp:.1f}\""
   ]
  },
  {
   "cell_type": "code",
   "execution_count": null,
   "metadata": {},
   "outputs": [],
   "source": [
    "# Using our \"utils\" module\n",
    "temp_c = 25\n",
    "temp_f = celsius_to_fahrenheit(temp_c)\n",
    "\n",
    "print(f\"{format_temperature(temp_c, 'C')} is equal to {format_temperature(temp_f, 'F')}\")\n",
    "\n",
    "temp_f = 98.6\n",
    "temp_c = fahrenheit_to_celsius(temp_f)\n",
    "\n",
    "print(f\"Body temperature: {format_temperature(temp_f, 'F')} is equal to {format_temperature(temp_c, 'C')}\")"
   ]
  },
  {
   "cell_type": "markdown",
   "metadata": {},
   "source": [
    "## Part 4: Working with Files"
   ]
  },
  {
   "cell_type": "markdown",
   "metadata": {},
   "source": [
    "### 4.1 Reading and Writing Text Files"
   ]
  },
  {
   "cell_type": "code",
   "execution_count": null,
   "metadata": {},
   "outputs": [],
   "source": [
    "# Writing to a file\n",
    "with open(\"sample.txt\", \"w\") as file:\n",
    "    file.write(\"Hello, File I/O!\\n\")\n",
    "    file.write(\"This is a sample text file.\\n\")\n",
    "    file.write(\"Python makes file handling easy.\")\n",
    "\n",
    "print(\"File written successfully.\")\n",
    "\n",
    "# Reading from a file\n",
    "with open(\"sample.txt\", \"r\") as file:\n",
    "    content = file.read()\n",
    "    print(\"\\nFile content:\")\n",
    "    print(content)\n",
    "\n",
    "# Reading line by line\n",
    "print(\"\\nReading line by line:\")\n",
    "with open(\"sample.txt\", \"r\") as file:\n",
    "    for i, line in enumerate(file, 1):\n",
    "        print(f\"Line {i}: {line.strip()}\")"
   ]
  },
  {
   "cell_type": "markdown",
   "metadata": {},
   "source": [
    "### 4.2 Working with JSON"
   ]
  },
  {
   "cell_type": "code",
   "execution_count": null,
   "metadata": {},
   "outputs": [],
   "source": [
    "import json\n",
    "\n",
    "# Data to be serialized to JSON\n",
    "data = {\n",
    "    \"name\": \"John Doe\",\n",
    "    \"age\": 35,\n",
    "    \"is_employee\": True,\n",
    "    \"skills\": [\"Python\", \"JavaScript\", \"SQL\"],\n",
    "    \"address\": {\n",
    "        \"street\": \"123 Main St\",\n",
    "        \"city\": \"Anytown\",\n",
    "        \"zip\": \"12345\"\n",
    "    }\n",
    "}\n",
    "\n",
    "# Writing JSON to a file\n",
    "with open(\"person.json\", \"w\") as file:\n",
    "    json.dump(data, file, indent=4)\n",
    "\n",
    "print(\"JSON file written successfully.\")\n",
    "\n",
    "# Reading JSON from a file\n",
    "with open(\"person.json\", \"r\") as file:\n",
    "    loaded_data = json.load(file)\n",
    "\n",
    "print(\"\\nData loaded from JSON:\")\n",
    "print(f\"Name: {loaded_data['name']}\")\n",
    "print(f\"Skills: {', '.join(loaded_data['skills'])}\")\n",
    "print(f\"City: {loaded_data['address']['city']}\")"
   ]
  },
  {
   "cell_type": "markdown",
   "metadata": {},
   "source": [
    "## Part 5: Error Handling"
   ]
  },
  {
   "cell_type": "code",
   "execution_count": null,
   "metadata": {},
   "outputs": [],
   "source": [
    "# Basic try-except\n",
    "try:\n",
    "    result = 10 / 0\n",
    "except ZeroDivisionError:\n",
    "    print(\"Error: Division by zero\")\n",
    "\n",
    "# Multiple exception types\n",
    "def get_item(my_list, index):\n",
    "    try:\n",
    "        return my_list[index]\n",
    "    except IndexError:\n",
    "        return \"Error: Index out of range\"\n",
    "    except TypeError:\n",
    "        return \"Error: List is not subscriptable\"\n",
    "\n",
    "print(get_item([1, 2, 3], 5))  # Index out of range\n",
    "print(get_item(None, 0))       # Not subscriptable\n",
    "\n",
    "# try-except-else-finally\n",
    "def read_file_safely(filename):\n",
    "    try:\n",
    "        file = open(filename, \"r\")\n",
    "    except FileNotFoundError:\n",
    "        print(f\"Error: File '{filename}' not found\")\n",
    "        return None\n",
    "    else:\n",
    "        content = file.read()\n",
    "        file.close()\n",
    "        return content\n",
    "    finally:\n",
    "        print(f\"Attempted to read {filename}\")\n",
    "\n",
    "print(\"\\nReading existing file:\")\n",
    "content = read_file_safely(\"sample.txt\")\n",
    "if content:\n",
    "    print(f\"File content (first 20 chars): {content[:20]}...\")\n",
    "\n",
    "print(\"\\nReading non-existent file:\")\n",
    "content = read_file_safely(\"nonexistent.txt\")"
   ]
  },
  {
   "cell_type": "markdown",
   "metadata": {},
   "source": [
    "## Part 6: Introduction to Flask"
   ]
  },
  {
   "cell_type": "markdown",
   "metadata": {},
   "source": [
    "### 6.1 Installing Flask\n",
    "\n",
    "First, let's install Flask. This is a micro web framework written in Python."
   ]
  },
  {
   "cell_type": "code",
   "execution_count": null,
   "metadata": {},
   "outputs": [],
   "source": [
    "!pip install flask"
   ]
  },
  {
   "cell_type": "markdown",
   "metadata": {},
   "source": [
    "### 6.2 Creating a Basic Flask Application\n",
    "\n",
    "Let's create a simple Flask application with a few routes."
   ]
  },
  {
   "cell_type": "code",
   "execution_count": null,
   "metadata": {},
   "outputs": [],
   "source": [
    "# This code would typically be in a file named app.py\n",
    "from flask import Flask, request, jsonify, render_template_string\n",
    "\n",
    "app = Flask(__name__)\n",
    "\n",
    "# A simple HTML template as a string\n",
    "html_template = \"\"\"\n",
    "<!DOCTYPE html>\n",
    "<html>\n",
    "<head>\n",
    "    <title>Flask Demo</title>\n",
    "    <style>\n",
    "        body { font-family: Arial, sans-serif; margin: 40px; line-height: 1.6; }\n",
    "        h1 { color: #333; }\n",
    "        .container { max-width: 800px; margin: 0 auto; }\n",
    "        form { margin-top: 20px; }\n",
    "        input, button { padding: 8px; margin: 5px 0; }\n",
    "        button { background-color: #4CAF50; color: white; border: none; cursor: pointer; }\n",
    "        button:hover { background-color: #45a049; }\n",
    "    </style>\n",
    "</head>\n",
    "<body>\n",
    "    <div class=\"container\">\n",
    "        <h1>Welcome to Flask!</h1>\n",
    "        <p>This is a simple Flask application.</p>\n",
    "        \n",
    "        <h2>Temperature Converter</h2>\n",
    "        <form action=\"/convert\" method=\"post\">\n",
    "            <input type=\"number\" name=\"temperature\" placeholder=\"Enter temperature\" required>\n",
    "            <select name=\"from_unit\">\n",
    "                <option value=\"celsius\">Celsius</option>\n",
    "                <option value=\"fahrenheit\">Fahrenheit</option>\n",
    "            </select>\n",
    "            <button type=\"submit\">Convert</button>\n",
    "        </form>\n",
    "        \n",
    "        {% if result %}\n",
    "        <div style=\"margin-top: 20px; padding: 10px; background-color: #f0f0f0;\">\n",
    "            <p><strong>{{ result }}</strong></p>\n",
    "        </div>\n",
    "        {% endif %}\n",
    "    </div>\n",
    "</body>\n",
    "</html>\n",
    "\"\"\"\n",
    "\n",
    "# Routes\n",
    "@app.route('/')\n",
    "def home():\n",
    "    return render_template_string(html_template)\n",
    "\n",
    "@app.route('/convert', methods=['POST'])\n",
    "def convert():\n",
    "    temperature = float(request.form['temperature'])\n",
    "    from_unit = request.form['from_unit']\n",
    "    \n",
    "    if from_unit == 'celsius':\n",
    "        converted = (temperature * 9/5) + 32\n",
    "        result = f\"{temperature:.1f}°C is equal to {converted:.1f}°F\"\n",
    "    else:  # fahrenheit\n",
    "        converted = (temperature - 32) * 5/9\n",
    "        result = f\"{temperature:.1f}°F is equal to {converted:.1f}°C\"\n",
    "    \n",
    "    return render_template_string(html_template, result=result)\n",
    "\n",
    "@app.route('/api/convert', methods=['GET'])\n",
    "def api_convert():\n",
    "    try:\n",
    "        temperature = float(request.args.get('temp', 0))\n",
    "        from_unit = request.args.get('from', 'celsius').lower()\n",
    "        \n",
    "        if from_unit == 'celsius':\n",
    "            converted = (temperature * 9/5) + 32\n",
    "            to_unit = 'fahrenheit'\n",
    "        else:  # assume fahrenheit\n",
    "            converted = (temperature - 32) * 5/9\n",
    "            to_unit = 'celsius'\n",
    "        \n",
    "        return jsonify({\n",
    "            'original': {'value': temperature, 'unit': from_unit},\n",
    "            'converted': {'value': converted, 'unit': to_unit}\n",
    "        })\n",
    "    except Exception as e:\n",
    "        return jsonify({'error': str(e)}), 400\n",
    "\n",
    "# The following is typically how you would run the app in a standalone Python file\n",
    "# if __name__ == '__main__':\n",
    "#     app.run(debug=True)"
   ]
  },
  {
   "cell_type": "markdown",
   "metadata": {},
   "source": [
    "### 6.3 Running the Flask Application\n",
    "\n",
    "Let's run our Flask application. In a notebook environment, we need a special approach."
   ]
  },
  {
   "cell_type": "code",
   "execution_count": null,
   "metadata": {},
   "outputs": [],
   "source": [
    "# NOTE: This uses a Jupyter-specific approach to start a Flask server.\n",
    "# In a real environment, you would use 'app.run()' or run with a WSGI server.\n",
    "\n",
    "import threading\n",
    "import webbrowser\n",
    "import time\n",
    "\n",
    "def run_flask_app():\n",
    "    app.run(port=5000)\n",
    "\n",
    "# Start the Flask app in a separate thread\n",
    "thread = threading.Thread(target=run_flask_app)\n",
    "thread.daemon = True  # This makes the thread exit when the main program exits\n",
    "thread.start()\n",
    "\n",
    "# Wait a moment for the server to start\n",
    "time.sleep(1)\n",
    "\n",
    "# Open the app in a browser\n",
    "webbrowser.open('http://localhost:5000')\n",
    "\n",
    "print(\"Flask app started at http://localhost:5000\")\n",
    "print(\"Try the following endpoints:\")\n",
    "print(\"1. Home page: http://localhost:5000/\")\n",
    "print(\"2. API endpoint: http://localhost:5000/api/convert?temp=25&from=celsius\")"
   ]
  },
  {
   "cell_type": "markdown",
   "metadata": {},
   "source": [
    "### 6.4 Explanation of the Flask Application\n",
    "\n",
    "Our Flask application demonstrates several key concepts:\n",
    "\n",
    "1. **Creating a Flask app instance**: The `Flask(__name__)` line initializes our application.\n",
    "\n",
    "2. **Route decorators**: Using `@app.route('/path')` to define URL endpoints and the functions that handle them.\n",
    "\n",
    "3. **HTTP methods**: Specifying which HTTP methods a route accepts (`GET`, `POST`, etc.).\n",
    "\n",
    "4. **Template rendering**: Using `render_template_string` to combine HTML templates with dynamic data.\n",
    "\n",
    "5. **Form processing**: Handling form submissions and accessing form data with `request.form`.\n",
    "\n",
    "6. **API endpoints**: Creating a JSON API endpoint that accepts query parameters.\n",
    "\n",
    "7. **Error handling**: Using try-except blocks to handle potential errors in API requests.\n",
    "\n",
    "This simple application includes two main features:\n",
    "\n",
    "- A web page with a form for temperature conversion\n",
    "- An API endpoint for programmatically converting temperatures\n",
    "\n",
    "In a real-world application, you would typically organize your code more carefully, use separate template files, and add additional features like database integration, user authentication, and more sophisticated error handling."
   ]
  },
  {
   "cell_type": "markdown",
   "metadata": {},
   "source": [
    "## Conclusion\n",
    "\n",
    "In this notebook, we've covered a comprehensive journey from basic Python concepts to building a Flask web application:\n",
    "\n",
    "1. **Python Fundamentals**: We explored variables, data types, collections, control flow, functions, and object-oriented programming.\n",
    "\n",
    "2. **Working with Data**: We learned how to handle files, use JSON for data serialization, and implement error handling.\n",
    "\n",
    "3. **Web Development with Flask**: We created a basic Flask application with routes, templates, form handling, and an API endpoint.\n",
    "\n",
    "This primer provides a solid foundation for you to continue exploring Python and web development. Some suggested next steps include:\n",
    "\n",
    "- Learning about database integration with Flask-SQLAlchemy\n",
    "- Exploring user authentication with Flask-Login\n",
    "- Building more complex templates and form validation\n",
    "- Deploying a Flask application to a hosting service\n",
    "\n",
    "Happy coding!"
   ]
  }
 ],
 "metadata": {
  "kernelspec": {
   "display_name": ".venv",
   "language": "python",
   "name": "python3"
  },
  "language_info": {
   "codemirror_mode": {
    "name": "ipython",
    "version": 3
   },
   "file_extension": ".py",
   "mimetype": "text/x-python",
   "name": "python",
   "nbconvert_exporter": "python",
   "pygments_lexer": "ipython3",
   "version": "3.13.2"
  }
 },
 "nbformat": 4,
 "nbformat_minor": 4
}
